{
 "cells": [
  {
   "cell_type": "markdown",
   "id": "9b5418c5",
   "metadata": {},
   "source": [
    "# What factors influence cancer patient survival?"
   ]
  },
  {
   "cell_type": "markdown",
   "id": "e6bf7a62",
   "metadata": {},
   "source": [
    "The objective of this task will be to determine what types of cancer patients succumb more quickly to cancer, and what aspects of the cancer may be more indicative of this. To do so, this task will model various features of patients with cancer and attempt to predict patient survival months, comparing models to determine which features are most influential in predicting patient survival accurately, especially since in this dataset, survival months is represented as an integer."
   ]
  },
  {
   "cell_type": "markdown",
   "id": "64ab8510",
   "metadata": {},
   "source": [
    "# Preliminary Work"
   ]
  },
  {
   "cell_type": "markdown",
   "id": "a7fe6f8d",
   "metadata": {},
   "source": [
    "### Import Libraries / Data"
   ]
  },
  {
   "cell_type": "code",
   "execution_count": 1,
   "id": "11b11c23",
   "metadata": {},
   "outputs": [],
   "source": [
    "import seaborn as sns\n",
    "import pandas as pd\n",
    "import numpy as np\n",
    "import matplotlib.pyplot as plt\n",
    "from sklearn.model_selection import train_test_split\n",
    "from sklearn.metrics import mean_squared_error\n",
    "from sklearn.pipeline import Pipeline\n",
    "from sklearn.model_selection import GridSearchCV\n",
    "from sklearn.linear_model import LinearRegression, Ridge, Lasso\n",
    "from sklearn.compose import make_column_transformer, make_column_selector\n",
    "from sklearn.preprocessing import PolynomialFeatures, StandardScaler, OneHotEncoder, OrdinalEncoder\n",
    "from sklearn.feature_selection import SequentialFeatureSelector\n",
    "from sklearn.inspection import permutation_importance\n",
    "from matplotlib import rcParams\n",
    "from sklearn.metrics import accuracy_score\n",
    "import time\n",
    "from sklearn.metrics import confusion_matrix, ConfusionMatrixDisplay\n",
    "from sklearn.neighbors import KNeighborsClassifier\n",
    "from sklearn.linear_model import LogisticRegression\n",
    "from sklearn.tree import DecisionTreeClassifier\n",
    "from sklearn.svm import SVC"
   ]
  },
  {
   "cell_type": "code",
   "execution_count": 2,
   "id": "4d6698d2",
   "metadata": {},
   "outputs": [],
   "source": [
    "#df = pd.read_csv('fulldata2.csv')\n",
    "df = pd.read_csv('smallersample2.csv')\n",
    "#Read in data as pandas dataframe. Data is SEER registry data uploaded 2021, contains information on people with cancer. This is somewhat truncated since the original had far too many points to process in a reasonable amount of time.\n",
    "#Smaller sample is random sample of data from the full data, since full data is too large.\n",
    "df = df.drop('Unnamed: 0',axis=1)"
   ]
  },
  {
   "cell_type": "markdown",
   "id": "73541652",
   "metadata": {},
   "source": [
    "### Data Preparation"
   ]
  },
  {
   "cell_type": "code",
   "execution_count": 3,
   "id": "475b6cef",
   "metadata": {},
   "outputs": [],
   "source": [
    "df = df.dropna()\n",
    "df = df.set_index('Patient ID')"
   ]
  },
  {
   "cell_type": "code",
   "execution_count": 4,
   "id": "8b66c78c",
   "metadata": {
    "scrolled": true
   },
   "outputs": [
    {
     "data": {
      "text/html": [
       "<div>\n",
       "<style scoped>\n",
       "    .dataframe tbody tr th:only-of-type {\n",
       "        vertical-align: middle;\n",
       "    }\n",
       "\n",
       "    .dataframe tbody tr th {\n",
       "        vertical-align: top;\n",
       "    }\n",
       "\n",
       "    .dataframe thead th {\n",
       "        text-align: right;\n",
       "    }\n",
       "</style>\n",
       "<table border=\"1\" class=\"dataframe\">\n",
       "  <thead>\n",
       "    <tr style=\"text-align: right;\">\n",
       "      <th></th>\n",
       "      <th>Age recode with &lt;1 year olds</th>\n",
       "      <th>Sex</th>\n",
       "      <th>Year of diagnosis</th>\n",
       "      <th>Race and origin recode (NHW, NHB, NHAIAN, NHAPI, Hispanic)</th>\n",
       "      <th>Site recode ICD-O-3/WHO 2008</th>\n",
       "      <th>Combined Summary Stage (2004+)</th>\n",
       "      <th>Summary stage 2000 (1998-2017)</th>\n",
       "      <th>Brain Molecular Markers (2018+)</th>\n",
       "      <th>COD to site recode</th>\n",
       "      <th>SEER cause-specific death classification</th>\n",
       "      <th>SEER other cause of death classification</th>\n",
       "      <th>Survival months</th>\n",
       "      <th>Survival months flag</th>\n",
       "      <th>Sequence number</th>\n",
       "      <th>Behavior code ICD-O-3</th>\n",
       "      <th>Primary Site</th>\n",
       "      <th>Diagnostic Confirmation</th>\n",
       "      <th>Median household income inflation adj to 2019</th>\n",
       "    </tr>\n",
       "    <tr>\n",
       "      <th>Patient ID</th>\n",
       "      <th></th>\n",
       "      <th></th>\n",
       "      <th></th>\n",
       "      <th></th>\n",
       "      <th></th>\n",
       "      <th></th>\n",
       "      <th></th>\n",
       "      <th></th>\n",
       "      <th></th>\n",
       "      <th></th>\n",
       "      <th></th>\n",
       "      <th></th>\n",
       "      <th></th>\n",
       "      <th></th>\n",
       "      <th></th>\n",
       "      <th></th>\n",
       "      <th></th>\n",
       "      <th></th>\n",
       "    </tr>\n",
       "  </thead>\n",
       "  <tbody>\n",
       "    <tr>\n",
       "      <th>1278657</th>\n",
       "      <td>65-69 years</td>\n",
       "      <td>Male</td>\n",
       "      <td>2012</td>\n",
       "      <td>Non-Hispanic White</td>\n",
       "      <td>Melanoma of the Skin</td>\n",
       "      <td>In situ</td>\n",
       "      <td>In situ</td>\n",
       "      <td>Blank(s)</td>\n",
       "      <td>Alive</td>\n",
       "      <td>Alive or dead of other cause</td>\n",
       "      <td>Alive or dead due to cancer</td>\n",
       "      <td>0085</td>\n",
       "      <td>Complete dates are available and there are mor...</td>\n",
       "      <td>One primary only</td>\n",
       "      <td>In situ</td>\n",
       "      <td>446</td>\n",
       "      <td>Positive histology</td>\n",
       "      <td>$75,000+</td>\n",
       "    </tr>\n",
       "    <tr>\n",
       "      <th>36664370</th>\n",
       "      <td>75-79 years</td>\n",
       "      <td>Male</td>\n",
       "      <td>2017</td>\n",
       "      <td>Non-Hispanic Unknown Race</td>\n",
       "      <td>Melanoma of the Skin</td>\n",
       "      <td>Unknown/unstaged</td>\n",
       "      <td>Unknown/unstaged</td>\n",
       "      <td>Blank(s)</td>\n",
       "      <td>Alive</td>\n",
       "      <td>Alive or dead of other cause</td>\n",
       "      <td>Alive or dead due to cancer</td>\n",
       "      <td>0034</td>\n",
       "      <td>Complete dates are available and there are mor...</td>\n",
       "      <td>One primary only</td>\n",
       "      <td>Malignant</td>\n",
       "      <td>443</td>\n",
       "      <td>Positive histology</td>\n",
       "      <td>$75,000+</td>\n",
       "    </tr>\n",
       "    <tr>\n",
       "      <th>9207086</th>\n",
       "      <td>55-59 years</td>\n",
       "      <td>Female</td>\n",
       "      <td>2017</td>\n",
       "      <td>Non-Hispanic Asian or Pacific Islander</td>\n",
       "      <td>Corpus Uteri</td>\n",
       "      <td>Localized</td>\n",
       "      <td>Localized</td>\n",
       "      <td>Blank(s)</td>\n",
       "      <td>Soft Tissue including Heart</td>\n",
       "      <td>Dead (attributable to this cancer dx)</td>\n",
       "      <td>Alive or dead due to cancer</td>\n",
       "      <td>0016</td>\n",
       "      <td>Complete dates are available and there are mor...</td>\n",
       "      <td>One primary only</td>\n",
       "      <td>Malignant</td>\n",
       "      <td>543</td>\n",
       "      <td>Positive histology</td>\n",
       "      <td>$75,000+</td>\n",
       "    </tr>\n",
       "    <tr>\n",
       "      <th>9136572</th>\n",
       "      <td>80-84 years</td>\n",
       "      <td>Male</td>\n",
       "      <td>2012</td>\n",
       "      <td>Non-Hispanic Asian or Pacific Islander</td>\n",
       "      <td>Lung and Bronchus</td>\n",
       "      <td>Distant</td>\n",
       "      <td>Distant</td>\n",
       "      <td>Blank(s)</td>\n",
       "      <td>Lung and Bronchus</td>\n",
       "      <td>Dead (attributable to this cancer dx)</td>\n",
       "      <td>Alive or dead due to cancer</td>\n",
       "      <td>0001</td>\n",
       "      <td>Complete dates are available and there are mor...</td>\n",
       "      <td>One primary only</td>\n",
       "      <td>Malignant</td>\n",
       "      <td>341</td>\n",
       "      <td>Positive histology</td>\n",
       "      <td>$75,000+</td>\n",
       "    </tr>\n",
       "    <tr>\n",
       "      <th>26415389</th>\n",
       "      <td>50-54 years</td>\n",
       "      <td>Male</td>\n",
       "      <td>2002</td>\n",
       "      <td>Non-Hispanic White</td>\n",
       "      <td>Brain</td>\n",
       "      <td>Blank(s)</td>\n",
       "      <td>Localized</td>\n",
       "      <td>Blank(s)</td>\n",
       "      <td>Brain and Other Nervous System</td>\n",
       "      <td>Dead (attributable to this cancer dx)</td>\n",
       "      <td>Alive or dead due to cancer</td>\n",
       "      <td>0012</td>\n",
       "      <td>Complete dates are available and there are mor...</td>\n",
       "      <td>One primary only</td>\n",
       "      <td>Malignant</td>\n",
       "      <td>710</td>\n",
       "      <td>Positive histology</td>\n",
       "      <td>$60,000 - $64,999</td>\n",
       "    </tr>\n",
       "  </tbody>\n",
       "</table>\n",
       "</div>"
      ],
      "text/plain": [
       "           Age recode with <1 year olds     Sex  Year of diagnosis  \\\n",
       "Patient ID                                                           \n",
       "1278657                     65-69 years    Male               2012   \n",
       "36664370                    75-79 years    Male               2017   \n",
       "9207086                     55-59 years  Female               2017   \n",
       "9136572                     80-84 years    Male               2012   \n",
       "26415389                    50-54 years    Male               2002   \n",
       "\n",
       "           Race and origin recode (NHW, NHB, NHAIAN, NHAPI, Hispanic)  \\\n",
       "Patient ID                                                              \n",
       "1278657                                    Non-Hispanic White           \n",
       "36664370                            Non-Hispanic Unknown Race           \n",
       "9207086                Non-Hispanic Asian or Pacific Islander           \n",
       "9136572                Non-Hispanic Asian or Pacific Islander           \n",
       "26415389                                   Non-Hispanic White           \n",
       "\n",
       "           Site recode ICD-O-3/WHO 2008 Combined Summary Stage (2004+)  \\\n",
       "Patient ID                                                               \n",
       "1278657            Melanoma of the Skin                        In situ   \n",
       "36664370           Melanoma of the Skin               Unknown/unstaged   \n",
       "9207086                    Corpus Uteri                      Localized   \n",
       "9136572               Lung and Bronchus                        Distant   \n",
       "26415389                          Brain                       Blank(s)   \n",
       "\n",
       "           Summary stage 2000 (1998-2017) Brain Molecular Markers (2018+)  \\\n",
       "Patient ID                                                                  \n",
       "1278657                           In situ                        Blank(s)   \n",
       "36664370                 Unknown/unstaged                        Blank(s)   \n",
       "9207086                         Localized                        Blank(s)   \n",
       "9136572                           Distant                        Blank(s)   \n",
       "26415389                        Localized                        Blank(s)   \n",
       "\n",
       "                        COD to site recode  \\\n",
       "Patient ID                                   \n",
       "1278657                              Alive   \n",
       "36664370                             Alive   \n",
       "9207086        Soft Tissue including Heart   \n",
       "9136572                  Lung and Bronchus   \n",
       "26415389    Brain and Other Nervous System   \n",
       "\n",
       "           SEER cause-specific death classification  \\\n",
       "Patient ID                                            \n",
       "1278657                Alive or dead of other cause   \n",
       "36664370               Alive or dead of other cause   \n",
       "9207086       Dead (attributable to this cancer dx)   \n",
       "9136572       Dead (attributable to this cancer dx)   \n",
       "26415389      Dead (attributable to this cancer dx)   \n",
       "\n",
       "           SEER other cause of death classification Survival months  \\\n",
       "Patient ID                                                            \n",
       "1278657                 Alive or dead due to cancer            0085   \n",
       "36664370                Alive or dead due to cancer            0034   \n",
       "9207086                 Alive or dead due to cancer            0016   \n",
       "9136572                 Alive or dead due to cancer            0001   \n",
       "26415389                Alive or dead due to cancer            0012   \n",
       "\n",
       "                                         Survival months flag  \\\n",
       "Patient ID                                                      \n",
       "1278657     Complete dates are available and there are mor...   \n",
       "36664370    Complete dates are available and there are mor...   \n",
       "9207086     Complete dates are available and there are mor...   \n",
       "9136572     Complete dates are available and there are mor...   \n",
       "26415389    Complete dates are available and there are mor...   \n",
       "\n",
       "             Sequence number Behavior code ICD-O-3  Primary Site  \\\n",
       "Patient ID                                                         \n",
       "1278657     One primary only               In situ           446   \n",
       "36664370    One primary only             Malignant           443   \n",
       "9207086     One primary only             Malignant           543   \n",
       "9136572     One primary only             Malignant           341   \n",
       "26415389    One primary only             Malignant           710   \n",
       "\n",
       "           Diagnostic Confirmation  \\\n",
       "Patient ID                           \n",
       "1278657         Positive histology   \n",
       "36664370        Positive histology   \n",
       "9207086         Positive histology   \n",
       "9136572         Positive histology   \n",
       "26415389        Positive histology   \n",
       "\n",
       "           Median household income inflation adj to 2019  \n",
       "Patient ID                                                \n",
       "1278657                                         $75,000+  \n",
       "36664370                                        $75,000+  \n",
       "9207086                                         $75,000+  \n",
       "9136572                                         $75,000+  \n",
       "26415389                               $60,000 - $64,999  "
      ]
     },
     "execution_count": 4,
     "metadata": {},
     "output_type": "execute_result"
    }
   ],
   "source": [
    "df.head()\n",
    "#See top few columns of data to get an idea of contents."
   ]
  },
  {
   "cell_type": "code",
   "execution_count": 5,
   "id": "89055e47",
   "metadata": {},
   "outputs": [
    {
     "name": "stdout",
     "output_type": "stream",
     "text": [
      "<class 'pandas.core.frame.DataFrame'>\n",
      "Int64Index: 21194 entries, 1278657 to 62029770\n",
      "Data columns (total 18 columns):\n",
      " #   Column                                                      Non-Null Count  Dtype \n",
      "---  ------                                                      --------------  ----- \n",
      " 0   Age recode with <1 year olds                                21194 non-null  object\n",
      " 1   Sex                                                         21194 non-null  object\n",
      " 2   Year of diagnosis                                           21194 non-null  int64 \n",
      " 3   Race and origin recode (NHW, NHB, NHAIAN, NHAPI, Hispanic)  21194 non-null  object\n",
      " 4   Site recode ICD-O-3/WHO 2008                                21194 non-null  object\n",
      " 5   Combined Summary Stage (2004+)                              21194 non-null  object\n",
      " 6   Summary stage 2000 (1998-2017)                              21194 non-null  object\n",
      " 7   Brain Molecular Markers (2018+)                             21194 non-null  object\n",
      " 8   COD to site recode                                          21194 non-null  object\n",
      " 9   SEER cause-specific death classification                    21194 non-null  object\n",
      " 10  SEER other cause of death classification                    21194 non-null  object\n",
      " 11  Survival months                                             21194 non-null  object\n",
      " 12  Survival months flag                                        21194 non-null  object\n",
      " 13  Sequence number                                             21194 non-null  object\n",
      " 14  Behavior code ICD-O-3                                       21194 non-null  object\n",
      " 15  Primary Site                                                21194 non-null  int64 \n",
      " 16  Diagnostic Confirmation                                     21194 non-null  object\n",
      " 17  Median household income inflation adj to 2019               21194 non-null  object\n",
      "dtypes: int64(2), object(16)\n",
      "memory usage: 3.1+ MB\n"
     ]
    }
   ],
   "source": [
    "df.info()\n",
    "#See information to determine what may need to be cleaned up / processed"
   ]
  },
  {
   "cell_type": "markdown",
   "id": "b30befc6",
   "metadata": {},
   "source": [
    "### Cleanup data. Represent objects as floats or integers as possible."
   ]
  },
  {
   "cell_type": "markdown",
   "id": "5f400988",
   "metadata": {},
   "source": [
    "Age"
   ]
  },
  {
   "cell_type": "code",
   "execution_count": 6,
   "id": "71b72679",
   "metadata": {},
   "outputs": [
    {
     "data": {
      "text/plain": [
       "array(['65-69 years', '75-79 years', '55-59 years', '80-84 years',\n",
       "       '50-54 years', '60-64 years', '40-44 years', '70-74 years',\n",
       "       '45-49 years', '85+ years', '35-39 years', '30-34 years',\n",
       "       '25-29 years', '20-24 years', '05-09 years', '00 years',\n",
       "       '01-04 years', '15-19 years', '10-14 years'], dtype=object)"
      ]
     },
     "execution_count": 6,
     "metadata": {},
     "output_type": "execute_result"
    }
   ],
   "source": [
    "df['Age recode with <1 year olds'].unique()\n",
    "#See unique values for 'Age' feature, to figure out how to organize."
   ]
  },
  {
   "cell_type": "code",
   "execution_count": 7,
   "id": "574a2a8b",
   "metadata": {},
   "outputs": [],
   "source": [
    "#Organize 'Age' by assigning each age range to its average as an approximate age.\n",
    "\n",
    "def AgeReassign(String):\n",
    "    temp = String.replace(' years','')\n",
    "    #Remove the text 'years' from the string as it is in all the categories.\n",
    "    if '-' in temp:\n",
    "    #First type of category has a '-' in it, to denote the range of the years. So address this case first.\n",
    "        return(sum([float(i) for i in temp.split('-')]) / 2)\n",
    "        #Return the average of each pair of numbers. temp.split('-') separates the string into the two numerical halves. Then float(i) replaces the string with a float so that operations can be performed on it.\n",
    "    elif '+' in temp:\n",
    "    #Only one category of this, and it only has one number, address this type of label.\n",
    "        return(float(temp.split('+')[0]))\n",
    "        #Return this age. Should note that this means any age 85 and above will end up being labelled as 85.\n",
    "    else:\n",
    "        return(float(0))\n",
    "        #The only othe category is '00 years', so for convinience, will simply return 0.\n",
    "        \n",
    "df['Age recode with <1 year olds'] = df['Age recode with <1 year olds'].apply(AgeReassign)\n",
    "#Replace previous 'Age Recode' with the reassigned version."
   ]
  },
  {
   "cell_type": "markdown",
   "id": "25c3c074",
   "metadata": {},
   "source": [
    "Sex"
   ]
  },
  {
   "cell_type": "code",
   "execution_count": 8,
   "id": "cc3292d7",
   "metadata": {},
   "outputs": [
    {
     "data": {
      "text/plain": [
       "array(['Male', 'Female'], dtype=object)"
      ]
     },
     "execution_count": 8,
     "metadata": {},
     "output_type": "execute_result"
    }
   ],
   "source": [
    "df['Sex'].unique()"
   ]
  },
  {
   "cell_type": "code",
   "execution_count": 9,
   "id": "7bb104a3",
   "metadata": {},
   "outputs": [],
   "source": [
    "#Map 'Female' to 0 and 'Male' to 1, since this category is binary.\n",
    "#Replace the column with this binary one.\n",
    "df['Sex'] = df['Sex'].map({'Female':0,'Male':1})\n"
   ]
  },
  {
   "cell_type": "markdown",
   "id": "8e924bd0",
   "metadata": {},
   "source": [
    "Race / Origin"
   ]
  },
  {
   "cell_type": "code",
   "execution_count": 10,
   "id": "9e0a7c2e",
   "metadata": {},
   "outputs": [
    {
     "data": {
      "text/plain": [
       "array(['Non-Hispanic White', 'Non-Hispanic Unknown Race',\n",
       "       'Non-Hispanic Asian or Pacific Islander', 'Hispanic (All Races)',\n",
       "       'Non-Hispanic Black', 'Non-Hispanic American Indian/Alaska Native'],\n",
       "      dtype=object)"
      ]
     },
     "execution_count": 10,
     "metadata": {},
     "output_type": "execute_result"
    }
   ],
   "source": [
    "df['Race and origin recode (NHW, NHB, NHAIAN, NHAPI, Hispanic)'].unique()"
   ]
  },
  {
   "cell_type": "code",
   "execution_count": 11,
   "id": "2cf7acaf",
   "metadata": {},
   "outputs": [],
   "source": [
    "onehotlist = []\n",
    "#Create list to use with onehotencoder later"
   ]
  },
  {
   "cell_type": "code",
   "execution_count": 12,
   "id": "605f3b4d",
   "metadata": {},
   "outputs": [],
   "source": [
    "onehotlist.append('Race and origin recode (NHW, NHB, NHAIAN, NHAPI, Hispanic)')\n",
    "#Append patient race to onehotlist, since these race categories can't be put into any particular order."
   ]
  },
  {
   "cell_type": "markdown",
   "id": "59869f76",
   "metadata": {},
   "source": [
    "Site of Cancer"
   ]
  },
  {
   "cell_type": "code",
   "execution_count": 174,
   "id": "754fa563",
   "metadata": {},
   "outputs": [
    {
     "data": {
      "text/plain": [
       "80"
      ]
     },
     "execution_count": 174,
     "metadata": {},
     "output_type": "execute_result"
    }
   ],
   "source": [
    "len(df['Site recode ICD-O-3/WHO 2008'].unique())\n",
    "#May be difficult to use, as there is a large number of categories."
   ]
  },
  {
   "cell_type": "code",
   "execution_count": 14,
   "id": "e1747a35",
   "metadata": {},
   "outputs": [],
   "source": [
    "onehotlist.append('Site recode ICD-O-3/WHO 2008')\n",
    "#Append site of cancer to onehotlist, since these are categories that can't really be put in an order."
   ]
  },
  {
   "cell_type": "markdown",
   "id": "48fe950a",
   "metadata": {},
   "source": [
    "Combined Summary Stage"
   ]
  },
  {
   "cell_type": "code",
   "execution_count": 15,
   "id": "5894a650",
   "metadata": {},
   "outputs": [
    {
     "data": {
      "text/plain": [
       "array(['In situ', 'Unknown/unstaged', 'Localized', 'Distant', 'Blank(s)',\n",
       "       'Regional', 'Not coded - Testis'], dtype=object)"
      ]
     },
     "execution_count": 15,
     "metadata": {},
     "output_type": "execute_result"
    }
   ],
   "source": [
    "df['Combined Summary Stage (2004+)'].unique()"
   ]
  },
  {
   "cell_type": "code",
   "execution_count": 16,
   "id": "30d15d30",
   "metadata": {},
   "outputs": [],
   "source": [
    "df= df[df['Combined Summary Stage (2004+)'] != 'Unknown/unstaged']\n",
    "df= df[df['Combined Summary Stage (2004+)'] != 'Blank(s)']\n",
    "#Drop unknown values for this. Will use onehotencoder."
   ]
  },
  {
   "cell_type": "code",
   "execution_count": 17,
   "id": "9bc43261",
   "metadata": {},
   "outputs": [],
   "source": [
    "onehotlist.append('Combined Summary Stage (2004+)')\n",
    "#Append cancer stage to onehotlist."
   ]
  },
  {
   "cell_type": "markdown",
   "id": "64154be7",
   "metadata": {},
   "source": [
    "Brain Molecule Markers"
   ]
  },
  {
   "cell_type": "code",
   "execution_count": 18,
   "id": "a1d1bbba",
   "metadata": {},
   "outputs": [
    {
     "data": {
      "text/plain": [
       "array(['Blank(s)',\n",
       "       'NA: Histology not 9400/3, 9401/3, 9440/3, 9450/3, 9451/3, 9471/3, 9478/3',\n",
       "       'Glioblastoma, IDH-wildtype (9440/3)',\n",
       "       'Not documented; No microscopic confirmation; Not assessed or unknown if assessed',\n",
       "       'Anaplastic astrocytoma, IDH-wildtype (9401/3)',\n",
       "       'Medulloblastoma, SHH-activated and TP53-wildtype (9471/3)'],\n",
       "      dtype=object)"
      ]
     },
     "execution_count": 18,
     "metadata": {},
     "output_type": "execute_result"
    }
   ],
   "source": [
    "df['Brain Molecular Markers (2018+)'].unique()"
   ]
  },
  {
   "cell_type": "code",
   "execution_count": 19,
   "id": "2c686fe6",
   "metadata": {},
   "outputs": [],
   "source": [
    "(df['Brain Molecular Markers (2018+)'] == 'Blank(s)').sum()\n",
    "#Drop this, there are too many blank values.\n",
    "df = df.drop('Brain Molecular Markers (2018+)',axis=1)"
   ]
  },
  {
   "cell_type": "markdown",
   "id": "551df356",
   "metadata": {},
   "source": [
    "Cause of death"
   ]
  },
  {
   "cell_type": "code",
   "execution_count": 173,
   "id": "fbd29856",
   "metadata": {},
   "outputs": [
    {
     "data": {
      "text/plain": [
       "88"
      ]
     },
     "execution_count": 173,
     "metadata": {},
     "output_type": "execute_result"
    }
   ],
   "source": [
    "len(df['COD to site recode'].unique())"
   ]
  },
  {
   "cell_type": "code",
   "execution_count": 21,
   "id": "0238fb8a",
   "metadata": {},
   "outputs": [],
   "source": [
    "onehotlist.append('COD to site recode')\n",
    "#Append cause of death to onehotlist, these can't be put in any particular order."
   ]
  },
  {
   "cell_type": "markdown",
   "id": "4490fbb8",
   "metadata": {},
   "source": [
    "SEER death classification"
   ]
  },
  {
   "cell_type": "code",
   "execution_count": 22,
   "id": "6755a4ad",
   "metadata": {},
   "outputs": [
    {
     "data": {
      "text/plain": [
       "array(['Alive or dead of other cause',\n",
       "       'Dead (attributable to this cancer dx)',\n",
       "       'Dead (missing/unknown COD)'], dtype=object)"
      ]
     },
     "execution_count": 22,
     "metadata": {},
     "output_type": "execute_result"
    }
   ],
   "source": [
    "df['SEER cause-specific death classification'].unique()\n",
    "#Only want to look at cancer, so death to other causes not very relevant."
   ]
  },
  {
   "cell_type": "code",
   "execution_count": 23,
   "id": "5e032902",
   "metadata": {},
   "outputs": [],
   "source": [
    "df  = df[df['SEER cause-specific death classification'] != 'Dead (missing/unknown COD)']\n",
    "#Drop unknown causes of death, as likely irrelevant to cancer."
   ]
  },
  {
   "cell_type": "code",
   "execution_count": 24,
   "id": "70282484",
   "metadata": {},
   "outputs": [
    {
     "data": {
      "text/plain": [
       "array(['Alive or dead due to cancer',\n",
       "       'Dead (attributable to causes other than this cancer dx)'],\n",
       "      dtype=object)"
      ]
     },
     "execution_count": 24,
     "metadata": {},
     "output_type": "execute_result"
    }
   ],
   "source": [
    "df['SEER other cause of death classification'].unique()"
   ]
  },
  {
   "cell_type": "code",
   "execution_count": 25,
   "id": "fbe2ae1e",
   "metadata": {},
   "outputs": [],
   "source": [
    "df[df['SEER other cause of death classification'] != 'Dead (attributable to causes other than this cancer dx)']\n",
    "#Remove values where they are dead due to causes other than the cancer, as this is irrelevant to the task.\n",
    "\n",
    "df = df.drop('SEER other cause of death classification', axis= 1)\n",
    "#Drop this column, because is now irrelevant with only one value."
   ]
  },
  {
   "cell_type": "markdown",
   "id": "83987629",
   "metadata": {},
   "source": [
    "Surival Months"
   ]
  },
  {
   "cell_type": "code",
   "execution_count": 26,
   "id": "d02b22c3",
   "metadata": {
    "scrolled": true
   },
   "outputs": [
    {
     "data": {
      "text/plain": [
       "array(['0085', '0016', '0001', '0000', '0006', '0011', '0140', '0145',\n",
       "       '0002', '0039', '0084', '0178', '0106', '0005', '0014', '0008',\n",
       "       '0022', '0064', '0142', '0080', '0048', '0122', '0160', '0035',\n",
       "       '0049', '0041', '0125', '0050', '0003', '0058', '0071', '0053',\n",
       "       '0034', '0172', '0020', '0019', '0007', '0004', '0060', '0112',\n",
       "       '0017', '0023', '0024', '0018', '0116', '0067', '0109', '0161',\n",
       "       '0089', '0174', '0076', '0169', '0038', '0107', '0027', '0052',\n",
       "       '0139', '0074', '0168', '0068', '0032', '0099', '0033', '0105',\n",
       "       '0152', '0009', '0098', '0025', '0176', '0062', '0119', '0088',\n",
       "       '0090', '0054', '0110', '0081', '0044', '0021', '0045', '0094',\n",
       "       '0149', '0040', '0155', '0029', '0047', '0151', '0083', '0117',\n",
       "       '0059', '0030', '0015', '0133', '0026', '0104', '0114', '0031',\n",
       "       '0126', 'Unknown', '0012', '0046', '0093', '0184', '0148', '0191',\n",
       "       '0051', '0123', '0134', '0077', '0136', '0036', '0070', '0096',\n",
       "       '0010', '0187', '0057', '0131', '0132', '0075', '0185', '0120',\n",
       "       '0165', '0177', '0097', '0078', '0158', '0055', '0063', '0183',\n",
       "       '0157', '0138', '0147', '0095', '0082', '0013', '0028', '0065',\n",
       "       '0180', '0086', '0170', '0166', '0061', '0037', '0072', '0056',\n",
       "       '0175', '0115', '0154', '0150', '0156', '0043', '0092', '0066',\n",
       "       '0159', '0073', '0128', '0141', '0108', '0102', '0101', '0186',\n",
       "       '0171', '0100', '0124', '0118', '0153', '0069', '0188', '0042',\n",
       "       '0121', '0164', '0146', '0135', '0113', '0143', '0087', '0179',\n",
       "       '0129', '0163', '0091', '0079', '0162', '0127', '0189', '0144',\n",
       "       '0103', '0190', '0173', '0137', '0167', '0111', '0181', '0130',\n",
       "       '0182'], dtype=object)"
      ]
     },
     "execution_count": 26,
     "metadata": {},
     "output_type": "execute_result"
    }
   ],
   "source": [
    "df['Survival months'].unique()\n",
    "#Looks like most can be converted to float. "
   ]
  },
  {
   "cell_type": "code",
   "execution_count": 27,
   "id": "136415be",
   "metadata": {},
   "outputs": [],
   "source": [
    "df = df[df['Survival months'] != 'Unknown']\n",
    "#Drop unknowns. These wouldn't have been able to be converted to float as well. They are also not useful to the model."
   ]
  },
  {
   "cell_type": "code",
   "execution_count": 28,
   "id": "d42ea48c",
   "metadata": {
    "scrolled": true
   },
   "outputs": [],
   "source": [
    "df['Survival months'] = [float(i) for i in df['Survival months']]\n",
    "#Replace strings with corresponding float."
   ]
  },
  {
   "cell_type": "markdown",
   "id": "6d7f6197",
   "metadata": {},
   "source": [
    "Survival months flag"
   ]
  },
  {
   "cell_type": "code",
   "execution_count": 29,
   "id": "e59863ae",
   "metadata": {},
   "outputs": [
    {
     "data": {
      "text/plain": [
       "array(['Complete dates are available and there are more than 0 days of survival',\n",
       "       'Incomplete dates are available and there cannot be zero days of follow-up',\n",
       "       'Complete dates are available and there are 0 days of survival',\n",
       "       'Incomplete dates are available and there could be zero days of follow-up'],\n",
       "      dtype=object)"
      ]
     },
     "execution_count": 29,
     "metadata": {},
     "output_type": "execute_result"
    }
   ],
   "source": [
    "df['Survival months flag'].unique()\n",
    "#Drop this column, only refers to the data and not the patient."
   ]
  },
  {
   "cell_type": "code",
   "execution_count": 30,
   "id": "8c377149",
   "metadata": {},
   "outputs": [],
   "source": [
    "df = df.drop('Survival months flag', axis=1)"
   ]
  },
  {
   "cell_type": "markdown",
   "id": "0eb0b964",
   "metadata": {},
   "source": [
    "Sequence number Primary cancer order"
   ]
  },
  {
   "cell_type": "code",
   "execution_count": 31,
   "id": "495ab0c3",
   "metadata": {},
   "outputs": [
    {
     "data": {
      "text/plain": [
       "array(['One primary only', '2nd of 2 or more primaries',\n",
       "       '3rd of 3 or more primaries', '1st of 2 or more primaries',\n",
       "       '5th of 5 or more primaries', '4th of 4 or more primaries',\n",
       "       '6th of 6 or more primaries', '7th of 7 or more primaries',\n",
       "       '8th of 8 or more primaries', '12th of 12 or more primaries',\n",
       "       '10th of 10 or more primaries'], dtype=object)"
      ]
     },
     "execution_count": 31,
     "metadata": {},
     "output_type": "execute_result"
    }
   ],
   "source": [
    "df['Sequence number'].unique()\n",
    "#Unsure how to order ordinally --> do onehotencoder"
   ]
  },
  {
   "cell_type": "code",
   "execution_count": 32,
   "id": "0180db96",
   "metadata": {},
   "outputs": [],
   "source": [
    "onehotlist.append('Sequence number')"
   ]
  },
  {
   "cell_type": "markdown",
   "id": "f23190c1",
   "metadata": {},
   "source": [
    "Behavior Code (How cancer is behaving, ie: if it's benign or malignant)"
   ]
  },
  {
   "cell_type": "code",
   "execution_count": 33,
   "id": "dbfa78c3",
   "metadata": {},
   "outputs": [
    {
     "data": {
      "text/plain": [
       "array(['In situ', 'Malignant'], dtype=object)"
      ]
     },
     "execution_count": 33,
     "metadata": {},
     "output_type": "execute_result"
    }
   ],
   "source": [
    "df['Behavior code ICD-O-3'].unique()\n",
    "#Can encode as binary in onehotencoder."
   ]
  },
  {
   "cell_type": "code",
   "execution_count": 34,
   "id": "041edc4c",
   "metadata": {},
   "outputs": [],
   "source": [
    "onehotlist.append('Behavior code ICD-O-3')"
   ]
  },
  {
   "cell_type": "markdown",
   "id": "7be8678c",
   "metadata": {},
   "source": [
    "Primary site of cancer"
   ]
  },
  {
   "cell_type": "code",
   "execution_count": 35,
   "id": "5e55052c",
   "metadata": {},
   "outputs": [
    {
     "data": {
      "text/plain": [
       "array([446, 543, 341, 343, 619, 445, 501, 679, 187, 739, 772, 659, 649,\n",
       "       199, 421, 220, 779, 342, 674, 675, 180, 504, 509, 672, 508, 383,\n",
       "       496, 569, 719, 749, 182, 482, 443, 502, 541, 340, 211, 503, 711,\n",
       "       715, 163, 448,  19, 506, 411, 349, 778,  99, 184, 629, 209, 539,\n",
       "       320, 529, 155,  21, 673,  91, 771, 183, 714, 444,  79, 250,  62,\n",
       "       162, 348, 500, 519, 505, 186, 499, 447,  80, 210, 621, 442, 670,\n",
       "       179, 239, 300,  31, 253, 160, 329,  40, 609, 717, 259, 221, 712,\n",
       "       321, 770, 700, 716, 693, 218, 252, 169, 240, 449, 495,  60, 166,\n",
       "       671, 631, 579, 678, 310, 158, 530, 172, 549, 165, 258, 676, 491,\n",
       "       185, 251, 494, 669, 139, 754, 161, 384, 170,  23, 420, 153, 718,\n",
       "       570, 710, 680, 381, 159,   4, 723, 773, 111, 713, 109, 150, 269,\n",
       "       720, 774, 168, 531, 119,   6, 188, 313, 492, 490,  50, 164,   0,\n",
       "       189, 696,  51, 241, 254,  90, 480, 154, 403, 319, 401, 400,  29,\n",
       "       589, 414, 257, 322, 540,   1, 140, 600, 413, 129, 481, 132,   2,\n",
       "       379,  22, 181,  49, 692, 249, 148, 151, 493, 171,  48,  30, 690,\n",
       "       380, 542,  89, 695, 112, 410, 402, 689, 601, 472, 412, 602, 422,\n",
       "       691, 419, 632, 548, 152, 809, 688, 518, 328, 559, 212, 750, 440,\n",
       "       729, 382, 311, 142, 762, 510, 740, 100, 248, 775, 699,  39, 760,\n",
       "        69, 538, 694, 339, 620,  41, 441, 511, 131, 102,   9,  20, 138,\n",
       "       638, 318, 512], dtype=int64)"
      ]
     },
     "execution_count": 35,
     "metadata": {},
     "output_type": "execute_result"
    }
   ],
   "source": [
    "df['Primary Site'].unique()\n",
    "#See https://www.ncri.ie/html/icdo3sites for corresponding locations. Period is omitted."
   ]
  },
  {
   "cell_type": "code",
   "execution_count": 36,
   "id": "cce34277",
   "metadata": {},
   "outputs": [],
   "source": [
    "onehotlist.append('Primary Site')"
   ]
  },
  {
   "cell_type": "markdown",
   "id": "567c2b0a",
   "metadata": {},
   "source": [
    "Diagnostic Confirmation"
   ]
  },
  {
   "cell_type": "code",
   "execution_count": 37,
   "id": "f489aa49",
   "metadata": {},
   "outputs": [
    {
     "data": {
      "text/plain": [
       "array(['Positive histology', 'Radiography without microscopic confirm',\n",
       "       'Positive exfoliative cytology, no positive histology',\n",
       "       'Clinical diagnosis only', 'Unknown',\n",
       "       'Positive laboratory test/marker study',\n",
       "       'Pos hist AND immunophenotyping AND/OR pos genetic studies',\n",
       "       'Positive microscopic confirm, method not specified',\n",
       "       'Direct visualization without microscopic confirmation'],\n",
       "      dtype=object)"
      ]
     },
     "execution_count": 37,
     "metadata": {},
     "output_type": "execute_result"
    }
   ],
   "source": [
    "df['Diagnostic Confirmation'].unique()"
   ]
  },
  {
   "cell_type": "code",
   "execution_count": 38,
   "id": "e1694894",
   "metadata": {},
   "outputs": [],
   "source": [
    "onehotlist.append('Diagnostic Confirmation')"
   ]
  },
  {
   "cell_type": "markdown",
   "id": "7e4a6193",
   "metadata": {},
   "source": [
    "Median Household income"
   ]
  },
  {
   "cell_type": "code",
   "execution_count": 39,
   "id": "3c0dac9e",
   "metadata": {},
   "outputs": [
    {
     "data": {
      "text/plain": [
       "array(['$75,000+', '$35,000 - $39,999', '$65,000 - $69,999',\n",
       "       '$50,000 - $54,999', '$60,000 - $64,999', '$55,000 - $59,999',\n",
       "       '$45,000 - $49,999', '$70,000 - $74,999', '< $35,000',\n",
       "       '$40,000 - $44,999', 'Unknown/missing/no match/Not 1990-2018'],\n",
       "      dtype=object)"
      ]
     },
     "execution_count": 39,
     "metadata": {},
     "output_type": "execute_result"
    }
   ],
   "source": [
    "df['Median household income inflation adj to 2019'].unique()\n",
    "#Convert to average of income, also drop all unknown values."
   ]
  },
  {
   "cell_type": "code",
   "execution_count": 40,
   "id": "25bbf2e4",
   "metadata": {},
   "outputs": [],
   "source": [
    "df = df[df['Median household income inflation adj to 2019'] != 'Unknown/missing/no match/Not 1990-2018']\n",
    "#Remove unknown values"
   ]
  },
  {
   "cell_type": "code",
   "execution_count": 41,
   "id": "9efabf8b",
   "metadata": {},
   "outputs": [],
   "source": [
    "#Organize household income by assigning each range to its average as an approximate.\n",
    "\n",
    "def IncomeReassign(String):\n",
    "    temp = String.replace('$','').replace(',','')\n",
    "    #Remove the text 'years' from the string as it is in all the categories.\n",
    "    if '-' in temp:\n",
    "    #First type of category has a '-' in it, to denote the range. So address this case first.\n",
    "        return(sum([float(i) for i in temp.split('-')]) / 2)\n",
    "        #Return the average of each pair of numbers. temp.split('-') separates the string into the two numerical halves. Then float(i) replaces the string with a float so that operations can be performed on it.\n",
    "    elif '+' in temp:\n",
    "    #Only one category of this, and it only has one number, address this type of label.\n",
    "        return(float(temp.split('+')[0]))\n",
    "        #Return this income. Should note that this means any income 75000 and above will end up being labelled as 75000.\n",
    "    else:\n",
    "        return(float(35000))\n",
    "        #The only other category is <35000. so for convinience, will simply return 35000, but must note that anything below this will also be 35000.\n",
    "        \n",
    "df['Median household income inflation adj to 2019'] = df['Median household income inflation adj to 2019'].apply(IncomeReassign)\n",
    "#Replace previous 'Age Recode' with the reassigned version."
   ]
  },
  {
   "cell_type": "code",
   "execution_count": 42,
   "id": "108a06c2",
   "metadata": {
    "scrolled": true
   },
   "outputs": [],
   "source": [
    "onehot = OneHotEncoder(drop = 'if_binary')\n",
    "#Fit and transform columns to OneHotEncoder, based on the features I chose to encode via onehotencoder.\n",
    "array = onehot.fit_transform(df[onehotlist]).toarray()\n",
    "#Store array to variable array to later make dataframe.\n",
    "names= onehot.get_feature_names_out(onehotlist)\n",
    "#Get feature names for dataframe columns\n",
    "onehotdf = pd.DataFrame(array)\n",
    "#Make dataframe from array\n",
    "onehotdf.columns = names\n",
    "#Set column labels\n",
    "\n",
    "ddf = df.reset_index().drop(onehotlist,axis=1).join(onehotdf)\n",
    "#ddf as in 'done'df. Reset index and drop original columns encoded by onehotencoder, then combine with the encoded columns\n",
    "ddf = ddf.set_index('Patient ID')"
   ]
  },
  {
   "cell_type": "code",
   "execution_count": 43,
   "id": "bddb87d2",
   "metadata": {},
   "outputs": [],
   "source": [
    "ddf = ddf.drop('Summary stage 2000 (1998-2017)',axis = 1)\n",
    "ddf = ddf.drop('SEER cause-specific death classification',axis = 1)\n",
    "#Drop the reduntant columns"
   ]
  },
  {
   "cell_type": "markdown",
   "id": "a6848a45",
   "metadata": {},
   "source": [
    "### Data Analysis"
   ]
  },
  {
   "cell_type": "code",
   "execution_count": 44,
   "id": "73f62c22",
   "metadata": {},
   "outputs": [],
   "source": [
    "survcorr = ddf.corr()['Survival months']\n",
    "#Get correlation of all values with survival months to get an idea of the most important columns, since will be predicting this."
   ]
  },
  {
   "cell_type": "code",
   "execution_count": 45,
   "id": "ce704ad2",
   "metadata": {},
   "outputs": [
    {
     "data": {
      "text/plain": [
       "Survival months                                            1.000000\n",
       "Year of diagnosis                                          0.550160\n",
       "COD to site recode_Alive                                   0.403386\n",
       "Combined Summary Stage (2004+)_Distant                     0.325065\n",
       "Site recode ICD-O-3/WHO 2008_Lung and Bronchus             0.237123\n",
       "                                                             ...   \n",
       "Primary Site_674                                           0.000127\n",
       "Site recode ICD-O-3/WHO 2008_Other Lymphocytic Leukemia    0.000109\n",
       "Primary Site_510                                           0.000106\n",
       "Primary Site_693                                           0.000090\n",
       "Site recode ICD-O-3/WHO 2008_Cecum                         0.000051\n",
       "Name: Survival months, Length: 455, dtype: float64"
      ]
     },
     "execution_count": 45,
     "metadata": {},
     "output_type": "execute_result"
    }
   ],
   "source": [
    "abs(survcorr).sort_values(ascending=False)\n",
    "#Highest absolute correlations are year of diagnosis, which makes sense, but is fairly useless since we expect to see this, and whether or not the patient is currently alive, which also makes sense as we would expect shorter lived patients to have likely already died. \n",
    "#Consider dropping both of these columns, or at least year."
   ]
  },
  {
   "cell_type": "markdown",
   "id": "9c98881f",
   "metadata": {},
   "source": [
    "#### Split data for analysis"
   ]
  },
  {
   "cell_type": "code",
   "execution_count": 46,
   "id": "94d21c63",
   "metadata": {},
   "outputs": [],
   "source": [
    "train, test = train_test_split(ddf)\n",
    "#Train test split of the processed dataframe\n",
    "\n",
    "X_train = train.drop('Survival months',axis=1)\n",
    "X_test = test.drop('Survival months', axis=1)\n",
    "y_train = train['Survival months']\n",
    "y_test = test['Survival months']"
   ]
  },
  {
   "cell_type": "code",
   "execution_count": 47,
   "id": "b3f8ba82",
   "metadata": {
    "scrolled": true
   },
   "outputs": [
    {
     "data": {
      "text/html": [
       "<div>\n",
       "<style scoped>\n",
       "    .dataframe tbody tr th:only-of-type {\n",
       "        vertical-align: middle;\n",
       "    }\n",
       "\n",
       "    .dataframe tbody tr th {\n",
       "        vertical-align: top;\n",
       "    }\n",
       "\n",
       "    .dataframe thead th {\n",
       "        text-align: right;\n",
       "    }\n",
       "</style>\n",
       "<table border=\"1\" class=\"dataframe\">\n",
       "  <thead>\n",
       "    <tr style=\"text-align: right;\">\n",
       "      <th></th>\n",
       "      <th>Age recode with &lt;1 year olds</th>\n",
       "      <th>Sex</th>\n",
       "      <th>Year of diagnosis</th>\n",
       "      <th>Survival months</th>\n",
       "      <th>Median household income inflation adj to 2019</th>\n",
       "      <th>Race and origin recode (NHW, NHB, NHAIAN, NHAPI, Hispanic)_Hispanic (All Races)</th>\n",
       "      <th>Race and origin recode (NHW, NHB, NHAIAN, NHAPI, Hispanic)_Non-Hispanic American Indian/Alaska Native</th>\n",
       "      <th>Race and origin recode (NHW, NHB, NHAIAN, NHAPI, Hispanic)_Non-Hispanic Asian or Pacific Islander</th>\n",
       "      <th>Race and origin recode (NHW, NHB, NHAIAN, NHAPI, Hispanic)_Non-Hispanic Black</th>\n",
       "      <th>Race and origin recode (NHW, NHB, NHAIAN, NHAPI, Hispanic)_Non-Hispanic Unknown Race</th>\n",
       "      <th>...</th>\n",
       "      <th>Primary Site_809</th>\n",
       "      <th>Diagnostic Confirmation_Clinical diagnosis only</th>\n",
       "      <th>Diagnostic Confirmation_Direct visualization without microscopic confirmation</th>\n",
       "      <th>Diagnostic Confirmation_Pos hist AND immunophenotyping AND/OR pos genetic studies</th>\n",
       "      <th>Diagnostic Confirmation_Positive exfoliative cytology, no positive histology</th>\n",
       "      <th>Diagnostic Confirmation_Positive histology</th>\n",
       "      <th>Diagnostic Confirmation_Positive laboratory test/marker study</th>\n",
       "      <th>Diagnostic Confirmation_Positive microscopic confirm, method not specified</th>\n",
       "      <th>Diagnostic Confirmation_Radiography without microscopic confirm</th>\n",
       "      <th>Diagnostic Confirmation_Unknown</th>\n",
       "    </tr>\n",
       "    <tr>\n",
       "      <th>Patient ID</th>\n",
       "      <th></th>\n",
       "      <th></th>\n",
       "      <th></th>\n",
       "      <th></th>\n",
       "      <th></th>\n",
       "      <th></th>\n",
       "      <th></th>\n",
       "      <th></th>\n",
       "      <th></th>\n",
       "      <th></th>\n",
       "      <th></th>\n",
       "      <th></th>\n",
       "      <th></th>\n",
       "      <th></th>\n",
       "      <th></th>\n",
       "      <th></th>\n",
       "      <th></th>\n",
       "      <th></th>\n",
       "      <th></th>\n",
       "      <th></th>\n",
       "      <th></th>\n",
       "    </tr>\n",
       "  </thead>\n",
       "  <tbody>\n",
       "    <tr>\n",
       "      <th>1278657</th>\n",
       "      <td>67.0</td>\n",
       "      <td>1</td>\n",
       "      <td>2012</td>\n",
       "      <td>85.0</td>\n",
       "      <td>75000.0</td>\n",
       "      <td>0.0</td>\n",
       "      <td>0.0</td>\n",
       "      <td>0.0</td>\n",
       "      <td>0.0</td>\n",
       "      <td>0.0</td>\n",
       "      <td>...</td>\n",
       "      <td>0.0</td>\n",
       "      <td>0.0</td>\n",
       "      <td>0.0</td>\n",
       "      <td>0.0</td>\n",
       "      <td>0.0</td>\n",
       "      <td>1.0</td>\n",
       "      <td>0.0</td>\n",
       "      <td>0.0</td>\n",
       "      <td>0.0</td>\n",
       "      <td>0.0</td>\n",
       "    </tr>\n",
       "    <tr>\n",
       "      <th>9207086</th>\n",
       "      <td>57.0</td>\n",
       "      <td>0</td>\n",
       "      <td>2017</td>\n",
       "      <td>16.0</td>\n",
       "      <td>75000.0</td>\n",
       "      <td>0.0</td>\n",
       "      <td>0.0</td>\n",
       "      <td>1.0</td>\n",
       "      <td>0.0</td>\n",
       "      <td>0.0</td>\n",
       "      <td>...</td>\n",
       "      <td>0.0</td>\n",
       "      <td>0.0</td>\n",
       "      <td>0.0</td>\n",
       "      <td>0.0</td>\n",
       "      <td>0.0</td>\n",
       "      <td>1.0</td>\n",
       "      <td>0.0</td>\n",
       "      <td>0.0</td>\n",
       "      <td>0.0</td>\n",
       "      <td>0.0</td>\n",
       "    </tr>\n",
       "    <tr>\n",
       "      <th>9136572</th>\n",
       "      <td>82.0</td>\n",
       "      <td>1</td>\n",
       "      <td>2012</td>\n",
       "      <td>1.0</td>\n",
       "      <td>75000.0</td>\n",
       "      <td>0.0</td>\n",
       "      <td>0.0</td>\n",
       "      <td>1.0</td>\n",
       "      <td>0.0</td>\n",
       "      <td>0.0</td>\n",
       "      <td>...</td>\n",
       "      <td>0.0</td>\n",
       "      <td>0.0</td>\n",
       "      <td>0.0</td>\n",
       "      <td>0.0</td>\n",
       "      <td>0.0</td>\n",
       "      <td>1.0</td>\n",
       "      <td>0.0</td>\n",
       "      <td>0.0</td>\n",
       "      <td>0.0</td>\n",
       "      <td>0.0</td>\n",
       "    </tr>\n",
       "    <tr>\n",
       "      <th>62737150</th>\n",
       "      <td>77.0</td>\n",
       "      <td>1</td>\n",
       "      <td>2013</td>\n",
       "      <td>0.0</td>\n",
       "      <td>37499.5</td>\n",
       "      <td>0.0</td>\n",
       "      <td>0.0</td>\n",
       "      <td>0.0</td>\n",
       "      <td>0.0</td>\n",
       "      <td>0.0</td>\n",
       "      <td>...</td>\n",
       "      <td>0.0</td>\n",
       "      <td>0.0</td>\n",
       "      <td>0.0</td>\n",
       "      <td>0.0</td>\n",
       "      <td>0.0</td>\n",
       "      <td>0.0</td>\n",
       "      <td>0.0</td>\n",
       "      <td>0.0</td>\n",
       "      <td>1.0</td>\n",
       "      <td>0.0</td>\n",
       "    </tr>\n",
       "    <tr>\n",
       "      <th>5528178</th>\n",
       "      <td>82.0</td>\n",
       "      <td>0</td>\n",
       "      <td>2008</td>\n",
       "      <td>6.0</td>\n",
       "      <td>75000.0</td>\n",
       "      <td>1.0</td>\n",
       "      <td>0.0</td>\n",
       "      <td>0.0</td>\n",
       "      <td>0.0</td>\n",
       "      <td>0.0</td>\n",
       "      <td>...</td>\n",
       "      <td>0.0</td>\n",
       "      <td>0.0</td>\n",
       "      <td>0.0</td>\n",
       "      <td>0.0</td>\n",
       "      <td>0.0</td>\n",
       "      <td>1.0</td>\n",
       "      <td>0.0</td>\n",
       "      <td>0.0</td>\n",
       "      <td>0.0</td>\n",
       "      <td>0.0</td>\n",
       "    </tr>\n",
       "    <tr>\n",
       "      <th>...</th>\n",
       "      <td>...</td>\n",
       "      <td>...</td>\n",
       "      <td>...</td>\n",
       "      <td>...</td>\n",
       "      <td>...</td>\n",
       "      <td>...</td>\n",
       "      <td>...</td>\n",
       "      <td>...</td>\n",
       "      <td>...</td>\n",
       "      <td>...</td>\n",
       "      <td>...</td>\n",
       "      <td>...</td>\n",
       "      <td>...</td>\n",
       "      <td>...</td>\n",
       "      <td>...</td>\n",
       "      <td>...</td>\n",
       "      <td>...</td>\n",
       "      <td>...</td>\n",
       "      <td>...</td>\n",
       "      <td>...</td>\n",
       "      <td>...</td>\n",
       "    </tr>\n",
       "    <tr>\n",
       "      <th>54306126</th>\n",
       "      <td>72.0</td>\n",
       "      <td>1</td>\n",
       "      <td>2005</td>\n",
       "      <td>178.0</td>\n",
       "      <td>75000.0</td>\n",
       "      <td>0.0</td>\n",
       "      <td>0.0</td>\n",
       "      <td>0.0</td>\n",
       "      <td>0.0</td>\n",
       "      <td>0.0</td>\n",
       "      <td>...</td>\n",
       "      <td>0.0</td>\n",
       "      <td>0.0</td>\n",
       "      <td>0.0</td>\n",
       "      <td>0.0</td>\n",
       "      <td>0.0</td>\n",
       "      <td>1.0</td>\n",
       "      <td>0.0</td>\n",
       "      <td>0.0</td>\n",
       "      <td>0.0</td>\n",
       "      <td>0.0</td>\n",
       "    </tr>\n",
       "    <tr>\n",
       "      <th>35766471</th>\n",
       "      <td>62.0</td>\n",
       "      <td>1</td>\n",
       "      <td>2013</td>\n",
       "      <td>6.0</td>\n",
       "      <td>75000.0</td>\n",
       "      <td>1.0</td>\n",
       "      <td>0.0</td>\n",
       "      <td>0.0</td>\n",
       "      <td>0.0</td>\n",
       "      <td>0.0</td>\n",
       "      <td>...</td>\n",
       "      <td>0.0</td>\n",
       "      <td>0.0</td>\n",
       "      <td>0.0</td>\n",
       "      <td>0.0</td>\n",
       "      <td>0.0</td>\n",
       "      <td>1.0</td>\n",
       "      <td>0.0</td>\n",
       "      <td>0.0</td>\n",
       "      <td>0.0</td>\n",
       "      <td>0.0</td>\n",
       "    </tr>\n",
       "    <tr>\n",
       "      <th>62956792</th>\n",
       "      <td>67.0</td>\n",
       "      <td>0</td>\n",
       "      <td>2017</td>\n",
       "      <td>33.0</td>\n",
       "      <td>75000.0</td>\n",
       "      <td>0.0</td>\n",
       "      <td>0.0</td>\n",
       "      <td>0.0</td>\n",
       "      <td>0.0</td>\n",
       "      <td>0.0</td>\n",
       "      <td>...</td>\n",
       "      <td>0.0</td>\n",
       "      <td>0.0</td>\n",
       "      <td>0.0</td>\n",
       "      <td>0.0</td>\n",
       "      <td>0.0</td>\n",
       "      <td>1.0</td>\n",
       "      <td>0.0</td>\n",
       "      <td>0.0</td>\n",
       "      <td>0.0</td>\n",
       "      <td>0.0</td>\n",
       "    </tr>\n",
       "    <tr>\n",
       "      <th>50149501</th>\n",
       "      <td>52.0</td>\n",
       "      <td>1</td>\n",
       "      <td>2015</td>\n",
       "      <td>53.0</td>\n",
       "      <td>52499.5</td>\n",
       "      <td>0.0</td>\n",
       "      <td>0.0</td>\n",
       "      <td>0.0</td>\n",
       "      <td>0.0</td>\n",
       "      <td>0.0</td>\n",
       "      <td>...</td>\n",
       "      <td>0.0</td>\n",
       "      <td>0.0</td>\n",
       "      <td>0.0</td>\n",
       "      <td>0.0</td>\n",
       "      <td>0.0</td>\n",
       "      <td>1.0</td>\n",
       "      <td>0.0</td>\n",
       "      <td>0.0</td>\n",
       "      <td>0.0</td>\n",
       "      <td>0.0</td>\n",
       "    </tr>\n",
       "    <tr>\n",
       "      <th>62530933</th>\n",
       "      <td>52.0</td>\n",
       "      <td>0</td>\n",
       "      <td>2010</td>\n",
       "      <td>41.0</td>\n",
       "      <td>42499.5</td>\n",
       "      <td>0.0</td>\n",
       "      <td>0.0</td>\n",
       "      <td>0.0</td>\n",
       "      <td>1.0</td>\n",
       "      <td>0.0</td>\n",
       "      <td>...</td>\n",
       "      <td>0.0</td>\n",
       "      <td>0.0</td>\n",
       "      <td>0.0</td>\n",
       "      <td>0.0</td>\n",
       "      <td>0.0</td>\n",
       "      <td>1.0</td>\n",
       "      <td>0.0</td>\n",
       "      <td>0.0</td>\n",
       "      <td>0.0</td>\n",
       "      <td>0.0</td>\n",
       "    </tr>\n",
       "  </tbody>\n",
       "</table>\n",
       "<p>16117 rows × 455 columns</p>\n",
       "</div>"
      ],
      "text/plain": [
       "            Age recode with <1 year olds  Sex  Year of diagnosis  \\\n",
       "Patient ID                                                         \n",
       "1278657                             67.0    1               2012   \n",
       "9207086                             57.0    0               2017   \n",
       "9136572                             82.0    1               2012   \n",
       "62737150                            77.0    1               2013   \n",
       "5528178                             82.0    0               2008   \n",
       "...                                  ...  ...                ...   \n",
       "54306126                            72.0    1               2005   \n",
       "35766471                            62.0    1               2013   \n",
       "62956792                            67.0    0               2017   \n",
       "50149501                            52.0    1               2015   \n",
       "62530933                            52.0    0               2010   \n",
       "\n",
       "            Survival months  Median household income inflation adj to 2019  \\\n",
       "Patient ID                                                                   \n",
       "1278657                85.0                                        75000.0   \n",
       "9207086                16.0                                        75000.0   \n",
       "9136572                 1.0                                        75000.0   \n",
       "62737150                0.0                                        37499.5   \n",
       "5528178                 6.0                                        75000.0   \n",
       "...                     ...                                            ...   \n",
       "54306126              178.0                                        75000.0   \n",
       "35766471                6.0                                        75000.0   \n",
       "62956792               33.0                                        75000.0   \n",
       "50149501               53.0                                        52499.5   \n",
       "62530933               41.0                                        42499.5   \n",
       "\n",
       "            Race and origin recode (NHW, NHB, NHAIAN, NHAPI, Hispanic)_Hispanic (All Races)  \\\n",
       "Patient ID                                                                                    \n",
       "1278657                                                   0.0                                 \n",
       "9207086                                                   0.0                                 \n",
       "9136572                                                   0.0                                 \n",
       "62737150                                                  0.0                                 \n",
       "5528178                                                   1.0                                 \n",
       "...                                                       ...                                 \n",
       "54306126                                                  0.0                                 \n",
       "35766471                                                  1.0                                 \n",
       "62956792                                                  0.0                                 \n",
       "50149501                                                  0.0                                 \n",
       "62530933                                                  0.0                                 \n",
       "\n",
       "            Race and origin recode (NHW, NHB, NHAIAN, NHAPI, Hispanic)_Non-Hispanic American Indian/Alaska Native  \\\n",
       "Patient ID                                                                                                          \n",
       "1278657                                                   0.0                                                       \n",
       "9207086                                                   0.0                                                       \n",
       "9136572                                                   0.0                                                       \n",
       "62737150                                                  0.0                                                       \n",
       "5528178                                                   0.0                                                       \n",
       "...                                                       ...                                                       \n",
       "54306126                                                  0.0                                                       \n",
       "35766471                                                  0.0                                                       \n",
       "62956792                                                  0.0                                                       \n",
       "50149501                                                  0.0                                                       \n",
       "62530933                                                  0.0                                                       \n",
       "\n",
       "            Race and origin recode (NHW, NHB, NHAIAN, NHAPI, Hispanic)_Non-Hispanic Asian or Pacific Islander  \\\n",
       "Patient ID                                                                                                      \n",
       "1278657                                                   0.0                                                   \n",
       "9207086                                                   1.0                                                   \n",
       "9136572                                                   1.0                                                   \n",
       "62737150                                                  0.0                                                   \n",
       "5528178                                                   0.0                                                   \n",
       "...                                                       ...                                                   \n",
       "54306126                                                  0.0                                                   \n",
       "35766471                                                  0.0                                                   \n",
       "62956792                                                  0.0                                                   \n",
       "50149501                                                  0.0                                                   \n",
       "62530933                                                  0.0                                                   \n",
       "\n",
       "            Race and origin recode (NHW, NHB, NHAIAN, NHAPI, Hispanic)_Non-Hispanic Black  \\\n",
       "Patient ID                                                                                  \n",
       "1278657                                                   0.0                               \n",
       "9207086                                                   0.0                               \n",
       "9136572                                                   0.0                               \n",
       "62737150                                                  0.0                               \n",
       "5528178                                                   0.0                               \n",
       "...                                                       ...                               \n",
       "54306126                                                  0.0                               \n",
       "35766471                                                  0.0                               \n",
       "62956792                                                  0.0                               \n",
       "50149501                                                  0.0                               \n",
       "62530933                                                  1.0                               \n",
       "\n",
       "            Race and origin recode (NHW, NHB, NHAIAN, NHAPI, Hispanic)_Non-Hispanic Unknown Race  \\\n",
       "Patient ID                                                                                         \n",
       "1278657                                                   0.0                                      \n",
       "9207086                                                   0.0                                      \n",
       "9136572                                                   0.0                                      \n",
       "62737150                                                  0.0                                      \n",
       "5528178                                                   0.0                                      \n",
       "...                                                       ...                                      \n",
       "54306126                                                  0.0                                      \n",
       "35766471                                                  0.0                                      \n",
       "62956792                                                  0.0                                      \n",
       "50149501                                                  0.0                                      \n",
       "62530933                                                  0.0                                      \n",
       "\n",
       "            ...  Primary Site_809  \\\n",
       "Patient ID  ...                     \n",
       "1278657     ...               0.0   \n",
       "9207086     ...               0.0   \n",
       "9136572     ...               0.0   \n",
       "62737150    ...               0.0   \n",
       "5528178     ...               0.0   \n",
       "...         ...               ...   \n",
       "54306126    ...               0.0   \n",
       "35766471    ...               0.0   \n",
       "62956792    ...               0.0   \n",
       "50149501    ...               0.0   \n",
       "62530933    ...               0.0   \n",
       "\n",
       "            Diagnostic Confirmation_Clinical diagnosis only  \\\n",
       "Patient ID                                                    \n",
       "1278657                                                 0.0   \n",
       "9207086                                                 0.0   \n",
       "9136572                                                 0.0   \n",
       "62737150                                                0.0   \n",
       "5528178                                                 0.0   \n",
       "...                                                     ...   \n",
       "54306126                                                0.0   \n",
       "35766471                                                0.0   \n",
       "62956792                                                0.0   \n",
       "50149501                                                0.0   \n",
       "62530933                                                0.0   \n",
       "\n",
       "            Diagnostic Confirmation_Direct visualization without microscopic confirmation  \\\n",
       "Patient ID                                                                                  \n",
       "1278657                                                   0.0                               \n",
       "9207086                                                   0.0                               \n",
       "9136572                                                   0.0                               \n",
       "62737150                                                  0.0                               \n",
       "5528178                                                   0.0                               \n",
       "...                                                       ...                               \n",
       "54306126                                                  0.0                               \n",
       "35766471                                                  0.0                               \n",
       "62956792                                                  0.0                               \n",
       "50149501                                                  0.0                               \n",
       "62530933                                                  0.0                               \n",
       "\n",
       "            Diagnostic Confirmation_Pos hist AND immunophenotyping AND/OR pos genetic studies  \\\n",
       "Patient ID                                                                                      \n",
       "1278657                                                   0.0                                   \n",
       "9207086                                                   0.0                                   \n",
       "9136572                                                   0.0                                   \n",
       "62737150                                                  0.0                                   \n",
       "5528178                                                   0.0                                   \n",
       "...                                                       ...                                   \n",
       "54306126                                                  0.0                                   \n",
       "35766471                                                  0.0                                   \n",
       "62956792                                                  0.0                                   \n",
       "50149501                                                  0.0                                   \n",
       "62530933                                                  0.0                                   \n",
       "\n",
       "            Diagnostic Confirmation_Positive exfoliative cytology, no positive histology  \\\n",
       "Patient ID                                                                                 \n",
       "1278657                                                   0.0                              \n",
       "9207086                                                   0.0                              \n",
       "9136572                                                   0.0                              \n",
       "62737150                                                  0.0                              \n",
       "5528178                                                   0.0                              \n",
       "...                                                       ...                              \n",
       "54306126                                                  0.0                              \n",
       "35766471                                                  0.0                              \n",
       "62956792                                                  0.0                              \n",
       "50149501                                                  0.0                              \n",
       "62530933                                                  0.0                              \n",
       "\n",
       "            Diagnostic Confirmation_Positive histology  \\\n",
       "Patient ID                                               \n",
       "1278657                                            1.0   \n",
       "9207086                                            1.0   \n",
       "9136572                                            1.0   \n",
       "62737150                                           0.0   \n",
       "5528178                                            1.0   \n",
       "...                                                ...   \n",
       "54306126                                           1.0   \n",
       "35766471                                           1.0   \n",
       "62956792                                           1.0   \n",
       "50149501                                           1.0   \n",
       "62530933                                           1.0   \n",
       "\n",
       "            Diagnostic Confirmation_Positive laboratory test/marker study  \\\n",
       "Patient ID                                                                  \n",
       "1278657                                                   0.0               \n",
       "9207086                                                   0.0               \n",
       "9136572                                                   0.0               \n",
       "62737150                                                  0.0               \n",
       "5528178                                                   0.0               \n",
       "...                                                       ...               \n",
       "54306126                                                  0.0               \n",
       "35766471                                                  0.0               \n",
       "62956792                                                  0.0               \n",
       "50149501                                                  0.0               \n",
       "62530933                                                  0.0               \n",
       "\n",
       "            Diagnostic Confirmation_Positive microscopic confirm, method not specified  \\\n",
       "Patient ID                                                                               \n",
       "1278657                                                   0.0                            \n",
       "9207086                                                   0.0                            \n",
       "9136572                                                   0.0                            \n",
       "62737150                                                  0.0                            \n",
       "5528178                                                   0.0                            \n",
       "...                                                       ...                            \n",
       "54306126                                                  0.0                            \n",
       "35766471                                                  0.0                            \n",
       "62956792                                                  0.0                            \n",
       "50149501                                                  0.0                            \n",
       "62530933                                                  0.0                            \n",
       "\n",
       "            Diagnostic Confirmation_Radiography without microscopic confirm  \\\n",
       "Patient ID                                                                    \n",
       "1278657                                                   0.0                 \n",
       "9207086                                                   0.0                 \n",
       "9136572                                                   0.0                 \n",
       "62737150                                                  1.0                 \n",
       "5528178                                                   0.0                 \n",
       "...                                                       ...                 \n",
       "54306126                                                  0.0                 \n",
       "35766471                                                  0.0                 \n",
       "62956792                                                  0.0                 \n",
       "50149501                                                  0.0                 \n",
       "62530933                                                  0.0                 \n",
       "\n",
       "            Diagnostic Confirmation_Unknown  \n",
       "Patient ID                                   \n",
       "1278657                                 0.0  \n",
       "9207086                                 0.0  \n",
       "9136572                                 0.0  \n",
       "62737150                                0.0  \n",
       "5528178                                 0.0  \n",
       "...                                     ...  \n",
       "54306126                                0.0  \n",
       "35766471                                0.0  \n",
       "62956792                                0.0  \n",
       "50149501                                0.0  \n",
       "62530933                                0.0  \n",
       "\n",
       "[16117 rows x 455 columns]"
      ]
     },
     "execution_count": 47,
     "metadata": {},
     "output_type": "execute_result"
    }
   ],
   "source": [
    "ddf"
   ]
  },
  {
   "cell_type": "markdown",
   "id": "fb55e87c",
   "metadata": {},
   "source": [
    "### Model Comparison of a Few Models"
   ]
  },
  {
   "cell_type": "markdown",
   "id": "35207aab",
   "metadata": {},
   "source": [
    "LR first tiral"
   ]
  },
  {
   "cell_type": "code",
   "execution_count": 194,
   "id": "70b52d2c",
   "metadata": {
    "scrolled": true
   },
   "outputs": [
    {
     "name": "stdout",
     "output_type": "stream",
     "text": [
      "Logistic Train Accuracy: 393.8811575923201\n",
      "Logistic Test Accuracy: 397.208280790248\n"
     ]
    },
    {
     "name": "stderr",
     "output_type": "stream",
     "text": [
      "C:\\Users\\timmy\\anaconda3\\lib\\site-packages\\sklearn\\linear_model\\_logistic.py:814: ConvergenceWarning: lbfgs failed to converge (status=1):\n",
      "STOP: TOTAL NO. of ITERATIONS REACHED LIMIT.\n",
      "\n",
      "Increase the number of iterations (max_iter) or scale the data as shown in:\n",
      "    https://scikit-learn.org/stable/modules/preprocessing.html\n",
      "Please also refer to the documentation for alternative solver options:\n",
      "    https://scikit-learn.org/stable/modules/linear_model.html#logistic-regression\n",
      "  n_iter_i = _check_optimize_result(\n"
     ]
    }
   ],
   "source": [
    "#Build very basic model, fit to training data.\n",
    "start =time.time()\n",
    "lr = LogisticRegression(max_iter = 1000).fit(X_train,y_train)\n",
    "lrtraintime =time.time() - start\n",
    "#Find scores of logistic regression predictions\n",
    "\n",
    "lrtrainscore = mean_squared_error(y_train,lr.predict(X_train))\n",
    "lrtestscore = mean_squared_error(y_test,lr.predict(X_test))\n",
    "\n",
    "print('Logistic Train Accuracy: ' + str(lrtrainscore) + '\\nLogistic Test Accuracy: ' + str(lrtestscore))\n",
    "\n",
    "#Format data for dataframe later\n",
    "lrdata = ['Logistic Basic', lrtrainscore, lrtestscore, lrtraintime]"
   ]
  },
  {
   "cell_type": "markdown",
   "id": "abe222e2",
   "metadata": {},
   "source": [
    "KNN first trial"
   ]
  },
  {
   "cell_type": "code",
   "execution_count": 195,
   "id": "1c6b2b81",
   "metadata": {},
   "outputs": [
    {
     "name": "stdout",
     "output_type": "stream",
     "text": [
      "KNN Basic Train Accuracy: 317.7210426739542\n",
      "KNN Basic Test Accuracy: 369.83375367801597\n",
      "Train Time: 0.00542759895324707\n"
     ]
    }
   ],
   "source": [
    "#Fit and score basic KNN algorithm\n",
    "#Find current time\n",
    "start = time.time()\n",
    "#Train model by fitting data\n",
    "kbasic = KNeighborsClassifier().fit(X_train,y_train)\n",
    "#Calculate time taken to fit data\n",
    "kbtraintime = time.time() - start\n",
    "\n",
    "#Get  mean_squared_error from training and testing\n",
    "kbtrainscore =  mean_squared_error(y_train,kbasic.predict(X_train))\n",
    "kbtestscore =  mean_squared_error(y_test,kbasic.predict(X_test))\n",
    "#Format data for dataframe later\n",
    "kbdata = ['KNN Basic', kbtrainscore, kbtestscore, kbtraintime]\n",
    "print('KNN Basic Train Accuracy: ' + str(kbtrainscore) + '\\nKNN Basic Test Accuracy: ' + str(kbtestscore) + '\\nTrain Time: ' + str(kbtraintime))"
   ]
  },
  {
   "cell_type": "markdown",
   "id": "658be763",
   "metadata": {},
   "source": [
    "Decision Tree first trial"
   ]
  },
  {
   "cell_type": "code",
   "execution_count": 196,
   "id": "b1eda453",
   "metadata": {},
   "outputs": [
    {
     "name": "stdout",
     "output_type": "stream",
     "text": [
      "Decision Tree Basic Train Accuracy: 81.4453787401023\n",
      "Decision Tree Basic Test Accuracy: 321.354140395124\n",
      "Train Time 0.08416414260864258\n"
     ]
    }
   ],
   "source": [
    "#Fit and score basic Decision Tree model\n",
    "#Find current time\n",
    "start = time.time()\n",
    "#Train model by fitting data\n",
    "dbasic = DecisionTreeClassifier().fit(X_train, y_train)\n",
    "#Calculate time taken to fit data\n",
    "dbtime = time.time() - start\n",
    "\n",
    "#Get mean_squared_error from training and testing\n",
    "dbtrainscore =  mean_squared_error(y_train, dbasic.predict(X_train))\n",
    "dbtestscore = mean_squared_error(y_test, dbasic.predict(X_test))\n",
    "#Format data for dataframe later\n",
    "dbdata = ['Decision Tree Basic',dbtrainscore, dbtestscore, dbtime]\n",
    "print('Decision Tree Basic Train Accuracy: ' + str(dbtrainscore) + '\\nDecision Tree Basic Test Accuracy: ' + str(dbtestscore) + '\\nTrain Time ' + str(dbtime))"
   ]
  },
  {
   "cell_type": "markdown",
   "id": "70aa795b",
   "metadata": {},
   "source": [
    "SVM first trial"
   ]
  },
  {
   "cell_type": "code",
   "execution_count": 197,
   "id": "ce4225a7",
   "metadata": {},
   "outputs": [
    {
     "name": "stdout",
     "output_type": "stream",
     "text": [
      "SVM Basic Train Accuracy: 463.748861327167\n",
      "SVM Basic Test Accuracy 474.28793610760823\n",
      "Train Time 18.115091562271118\n"
     ]
    }
   ],
   "source": [
    "#Fit and score basic SVM model\n",
    "#Find current time\n",
    "start = time.time()\n",
    "#Train model by fitting data\n",
    "sbasic = SVC().fit(X_train,y_train)\n",
    "#Calculate time taken to fit data\n",
    "sbtime = time.time() - start\n",
    "\n",
    "#Get  mean_squared_error from training and testing\n",
    "sbtrainscore =  mean_squared_error(y_train, sbasic.predict(X_train))\n",
    "sbtestscore =  mean_squared_error(y_test, sbasic.predict(X_test))\n",
    "#Format data for dataframe later\n",
    "sbdata = ['SVM Basic',sbtrainscore,sbtestscore,sbtime]\n",
    "print('SVM Basic Train Accuracy: ' + str(sbtrainscore) + '\\nSVM Basic Test Accuracy ' + str(sbtestscore) + '\\nTrain Time ' + str(sbtime))"
   ]
  },
  {
   "cell_type": "code",
   "execution_count": 203,
   "id": "464cc12f",
   "metadata": {},
   "outputs": [
    {
     "data": {
      "text/html": [
       "<div>\n",
       "<style scoped>\n",
       "    .dataframe tbody tr th:only-of-type {\n",
       "        vertical-align: middle;\n",
       "    }\n",
       "\n",
       "    .dataframe tbody tr th {\n",
       "        vertical-align: top;\n",
       "    }\n",
       "\n",
       "    .dataframe thead th {\n",
       "        text-align: right;\n",
       "    }\n",
       "</style>\n",
       "<table border=\"1\" class=\"dataframe\">\n",
       "  <thead>\n",
       "    <tr style=\"text-align: right;\">\n",
       "      <th></th>\n",
       "      <th>Model</th>\n",
       "      <th>Train MSE</th>\n",
       "      <th>Test MSE</th>\n",
       "      <th>Train Time</th>\n",
       "    </tr>\n",
       "  </thead>\n",
       "  <tbody>\n",
       "    <tr>\n",
       "      <th>0</th>\n",
       "      <td>Logistic Basic</td>\n",
       "      <td>393.881158</td>\n",
       "      <td>397.208281</td>\n",
       "      <td>17.366961</td>\n",
       "    </tr>\n",
       "    <tr>\n",
       "      <th>1</th>\n",
       "      <td>KNN Basic</td>\n",
       "      <td>317.721043</td>\n",
       "      <td>369.833754</td>\n",
       "      <td>0.005428</td>\n",
       "    </tr>\n",
       "    <tr>\n",
       "      <th>2</th>\n",
       "      <td>Decision Tree Basic</td>\n",
       "      <td>81.445379</td>\n",
       "      <td>321.354140</td>\n",
       "      <td>0.084164</td>\n",
       "    </tr>\n",
       "  </tbody>\n",
       "</table>\n",
       "</div>"
      ],
      "text/plain": [
       "                 Model   Train MSE    Test MSE  Train Time\n",
       "0       Logistic Basic  393.881158  397.208281   17.366961\n",
       "1            KNN Basic  317.721043  369.833754    0.005428\n",
       "2  Decision Tree Basic   81.445379  321.354140    0.084164"
      ]
     },
     "execution_count": 203,
     "metadata": {},
     "output_type": "execute_result"
    }
   ],
   "source": [
    "Comparisondf = (pd.DataFrame([lrdata,kbdata, dbdata]))\n",
    "Comparisondf.columns = ['Model','Train MSE','Test MSE','Train Time']\n",
    "Comparisondf"
   ]
  },
  {
   "cell_type": "code",
   "execution_count": 205,
   "id": "53a5fd03",
   "metadata": {},
   "outputs": [
    {
     "data": {
      "text/plain": [
       "<function matplotlib.pyplot.show(close=None, block=None)>"
      ]
     },
     "execution_count": 205,
     "metadata": {},
     "output_type": "execute_result"
    },
    {
     "data": {
      "image/png": "[encoded data removed]",
      "text/plain": [
       "<Figure size 432x288 with 1 Axes>"
      ]
     },
     "metadata": {
      "needs_background": "light"
     },
     "output_type": "display_data"
    }
   ],
   "source": [
    "#Plot Training Accuracy of each model on a barplot. Does not appear to be a significant difference now.\n",
    "fig, ax = plt.subplots()\n",
    "plot = sns.barplot(data = Comparisondf,x = 'Model', y='Train MSE').set(title = 'Training MSE of each Model', xlabel = 'Model', ylabel = 'Training Accuracy')\n",
    "ax.set_xticklabels(ax.get_xticklabels(), rotation=45, horizontalalignment='right')\n",
    "plt.show"
   ]
  },
  {
   "cell_type": "code",
   "execution_count": 206,
   "id": "bbf1998a",
   "metadata": {
    "scrolled": true
   },
   "outputs": [
    {
     "data": {
      "text/plain": [
       "<function matplotlib.pyplot.show(close=None, block=None)>"
      ]
     },
     "execution_count": 206,
     "metadata": {},
     "output_type": "execute_result"
    },
    {
     "data": {
      "image/png": "[encoded data removed]",
      "text/plain": [
       "<Figure size 432x288 with 1 Axes>"
      ]
     },
     "metadata": {
      "needs_background": "light"
     },
     "output_type": "display_data"
    }
   ],
   "source": [
    "#Plot Test Accuracy of each model on a barplot. Does not appear to be a significant difference now.\n",
    "fig, ax = plt.subplots()\n",
    "plot = sns.barplot(data = Comparisondf,x = 'Model', y='Test MSE').set(title = 'Test MSE of each Model', xlabel = 'Model', ylabel = 'Test Accuracy')\n",
    "ax.set_xticklabels(ax.get_xticklabels(), rotation=45, horizontalalignment='right')\n",
    "plt.show"
   ]
  },
  {
   "cell_type": "markdown",
   "id": "81101670",
   "metadata": {},
   "source": [
    "Use permutation importance to determine most important features. Accuracy is very low, so will see most important, and collect new dataset based on this."
   ]
  },
  {
   "cell_type": "code",
   "execution_count": null,
   "id": "36fa1aa7",
   "metadata": {},
   "outputs": [],
   "source": [
    "r = permutation_importance(kbasic,X_test,y_test,n_repeats=5)\n",
    "#Permuatation importance, checks which features have the largest impact on the predictions when changed"
   ]
  },
  {
   "cell_type": "code",
   "execution_count": 56,
   "id": "710bd9f5",
   "metadata": {},
   "outputs": [
    {
     "name": "stdout",
     "output_type": "stream",
     "text": [
      "Year of diagnosis: 0.008 +/- 0.002\n",
      "Age recode with <1 year olds: 0.005 +/- 0.002\n",
      "Combined Summary Stage (2004+)_Distant: 0.003 +/- 0.001\n",
      "COD to site recode_Alive: 0.003 +/- 0.001\n",
      "Sequence number_2nd of 2 or more primaries: 0.001 +/- 0.000\n",
      "COD to site recode_Diseases of Heart: 0.001 +/- 0.000\n",
      "Primary Site_502: 0.001 +/- 0.000\n",
      "Primary Site_649: 0.001 +/- 0.000\n",
      "Primary Site_182: 0.000 +/- 0.000\n",
      "COD to site recode_Lung and Bronchus: 0.000 +/- 0.000\n",
      "Primary Site_443: 0.000 +/- 0.000\n",
      "COD to site recode_In situ, benign or unknown behavior neoplasm: 0.000 +/- 0.000\n",
      "COD to site recode_Diabetes Mellitus: 0.000 +/- 0.000\n",
      "Site recode ICD-O-3/WHO 2008_Esophagus: 0.000 +/- 0.000\n",
      "Site recode ICD-O-3/WHO 2008_Ascending Colon: 0.000 +/- 0.000\n",
      "COD to site recode_Intrahepatic Bile Duct: 0.000 +/- 0.000\n",
      "COD to site recode_Tongue: 0.000 +/- 0.000\n",
      "Primary Site_501: 0.000 +/- 0.000\n",
      "COD to site recode_Septicemia: 0.000 +/- 0.000\n"
     ]
    }
   ],
   "source": [
    "for i in r.importances_mean.argsort()[::-1]:\n",
    "    if r.importances_mean[i] - 2 * r.importances_std[i] > 0:\n",
    "         print(f\"{kbasic.feature_names_in_[i]:<8}\"\n",
    "               f\": {r.importances_mean[i]:.3f}\"\n",
    "               f\" +/- {r.importances_std[i]:.3f}\")\n",
    "#Display importances and which features were important"
   ]
  },
  {
   "cell_type": "code",
   "execution_count": 57,
   "id": "319152fa",
   "metadata": {},
   "outputs": [],
   "source": [
    "knnparams = {'n_neighbors':range(1,11),'weights':['uniform','distance']}\n",
    "knngrid = GridSearchCV(KNeighborsClassifier(),knnparams).fit(X_train,y_train)"
   ]
  },
  {
   "cell_type": "code",
   "execution_count": 58,
   "id": "b760e44d",
   "metadata": {},
   "outputs": [],
   "source": [
    "dtparams = {'criterion':['gini','entropy'],'max_depth':range(1,5),'min_samples_split':range(2,6)}\n",
    "dtgrid = GridSearchCV(DecisionTreeClassifier(),dtparams).fit(X_train,y_train)"
   ]
  },
  {
   "cell_type": "code",
   "execution_count": 59,
   "id": "1f9499d5",
   "metadata": {},
   "outputs": [
    {
     "data": {
      "text/plain": [
       "0.03905021400316821"
      ]
     },
     "execution_count": 59,
     "metadata": {},
     "output_type": "execute_result"
    }
   ],
   "source": [
    "knngrid.best_score_"
   ]
  },
  {
   "cell_type": "code",
   "execution_count": 60,
   "id": "6cb85a58",
   "metadata": {},
   "outputs": [
    {
     "data": {
      "text/plain": [
       "0.07131635475623624"
      ]
     },
     "execution_count": 60,
     "metadata": {},
     "output_type": "execute_result"
    }
   ],
   "source": [
    "dtgrid.best_score_"
   ]
  },
  {
   "cell_type": "code",
   "execution_count": 61,
   "id": "96e3ff63",
   "metadata": {},
   "outputs": [
    {
     "data": {
      "text/plain": [
       "{'criterion': 'entropy', 'max_depth': 4, 'min_samples_split': 2}"
      ]
     },
     "execution_count": 61,
     "metadata": {},
     "output_type": "execute_result"
    }
   ],
   "source": [
    "dtgrid.best_params_"
   ]
  },
  {
   "cell_type": "code",
   "execution_count": 62,
   "id": "0566eb94",
   "metadata": {},
   "outputs": [],
   "source": [
    "dbest = DecisionTreeClassifier(criterion = 'entropy', max_depth = 4).fit(X_train,y_train)"
   ]
  },
  {
   "cell_type": "code",
   "execution_count": 63,
   "id": "37ed1d83",
   "metadata": {},
   "outputs": [],
   "source": [
    "r = permutation_importance(dbest,X_test,y_test,n_repeats=5)"
   ]
  },
  {
   "cell_type": "code",
   "execution_count": 64,
   "id": "141d3b46",
   "metadata": {},
   "outputs": [
    {
     "name": "stdout",
     "output_type": "stream",
     "text": [
      "Year of diagnosis: 0.030 +/- 0.002\n",
      "COD to site recode_Alive: 0.027 +/- 0.001\n",
      "Sequence number_1st of 2 or more primaries: 0.001 +/- 0.001\n"
     ]
    }
   ],
   "source": [
    "for i in r.importances_mean.argsort()[::-1]:\n",
    "    if r.importances_mean[i] - 2 * r.importances_std[i] > 0:\n",
    "         print(f\"{dbest.feature_names_in_[i]:<8}\"\n",
    "               f\": {r.importances_mean[i]:.3f}\"\n",
    "               f\" +/- {r.importances_std[i]:.3f}\")\n",
    "            \n",
    "#Not very useful, as year of diagnosis, whether or not patient is alive confound months survived, in my opinion."
   ]
  },
  {
   "cell_type": "markdown",
   "id": "f2097a00",
   "metadata": {},
   "source": [
    "## Prepare new set of features"
   ]
  },
  {
   "cell_type": "code",
   "execution_count": 68,
   "id": "2a801f1b",
   "metadata": {},
   "outputs": [],
   "source": [
    "#df2 = pd.read_csv('df2small.csv')\n",
    "#Read in data\n",
    "#df2 = df2.drop('Unnamed: 0',axis=1)\n",
    "#df2=df2.dropna()\n",
    "df2 = pd.read_csv('dataset2.csv')\n",
    "df2=df2.dropna()\n",
    "df2,temp = train_test_split(df2, train_size=0.025)"
   ]
  },
  {
   "cell_type": "code",
   "execution_count": 69,
   "id": "6f0e6f38",
   "metadata": {},
   "outputs": [
    {
     "name": "stdout",
     "output_type": "stream",
     "text": [
      "<class 'pandas.core.frame.DataFrame'>\n",
      "Int64Index: 201518 entries, 6087335 to 5843372\n",
      "Data columns (total 16 columns):\n",
      " #   Column                                  Non-Null Count   Dtype \n",
      "---  ------                                  --------------   ----- \n",
      " 0   Age recode with <1 year olds            201518 non-null  object\n",
      " 1   Combined Summary Stage (2004+)          201518 non-null  object\n",
      " 2   RX Summ--Surg Prim Site (1998+)         201518 non-null  int64 \n",
      " 3   RX Summ--Scope Reg LN Sur (2003+)       201518 non-null  object\n",
      " 4   RX Summ--Surg Oth Reg/Dis (2003+)       201518 non-null  object\n",
      " 5   RX Summ--Reg LN Examined (1998-2002)    201518 non-null  object\n",
      " 6   Tumor Size Summary (2016+)              201518 non-null  object\n",
      " 7   Regional nodes positive (1988+)         201518 non-null  int64 \n",
      " 8   SEER Combined Mets at DX-bone (2010+)   201518 non-null  object\n",
      " 9   SEER Combined Mets at DX-brain (2010+)  201518 non-null  object\n",
      " 10  SEER Combined Mets at DX-liver (2010+)  201518 non-null  object\n",
      " 11  SEER Combined Mets at DX-lung (2010+)   201518 non-null  object\n",
      " 12  EOD 10 - extent (1988-2003)             201518 non-null  object\n",
      " 13  EOD 10 - nodes (1988-2003)              201518 non-null  object\n",
      " 14  EOD 10 - size (1988-2003)               201518 non-null  object\n",
      " 15  Survival months                         201518 non-null  object\n",
      "dtypes: int64(2), object(14)\n",
      "memory usage: 26.1+ MB\n"
     ]
    }
   ],
   "source": [
    "df2.info()"
   ]
  },
  {
   "cell_type": "markdown",
   "id": "18663956",
   "metadata": {},
   "source": [
    "### Process new features"
   ]
  },
  {
   "cell_type": "code",
   "execution_count": 70,
   "id": "be4c14f0",
   "metadata": {},
   "outputs": [],
   "source": [
    "df2['Age recode with <1 year olds'] = df2['Age recode with <1 year olds'].apply(AgeReassign)\n",
    "#Replace previous 'Age Recode' with the reassigned version."
   ]
  },
  {
   "cell_type": "markdown",
   "id": "4c418ea7",
   "metadata": {},
   "source": [
    "Combined Summary Stage"
   ]
  },
  {
   "cell_type": "code",
   "execution_count": 71,
   "id": "c34740f6",
   "metadata": {},
   "outputs": [
    {
     "data": {
      "text/plain": [
       "array(['Distant', 'In situ', 'Localized', 'Not coded - Testis',\n",
       "       'Blank(s)', 'Regional', 'Unknown/unstaged'], dtype=object)"
      ]
     },
     "execution_count": 71,
     "metadata": {},
     "output_type": "execute_result"
    }
   ],
   "source": [
    "df2['Combined Summary Stage (2004+)'].unique()"
   ]
  },
  {
   "cell_type": "code",
   "execution_count": 72,
   "id": "8fadf14e",
   "metadata": {},
   "outputs": [],
   "source": [
    "onehotlist2 = []"
   ]
  },
  {
   "cell_type": "code",
   "execution_count": 73,
   "id": "8a7b4758",
   "metadata": {},
   "outputs": [],
   "source": [
    "df2 = df2[df2['Combined Summary Stage (2004+)'] != 'Blank(s)']\n",
    "df2 = df2[df2['Combined Summary Stage (2004+)'] != 'Unknown/unstaged']\n",
    "#Drop blanks and unknowns\n",
    "onehotlist2.append('Combined Summary Stage (2004+)')"
   ]
  },
  {
   "cell_type": "markdown",
   "id": "d1939f15",
   "metadata": {},
   "source": [
    "Whether primary site had surgery\n",
    "\n",
    "00 means no surgery.\n",
    "\n",
    "10-19 are specific codes, whether tumor was destroyed.\n",
    "\n",
    "20-80 are speciifc codes, resection of pathologic specimen.\n",
    "\n",
    "90 surgery performed, but no information on which procedure\n",
    "\n",
    "98 special types of surgery\n",
    "\n",
    "99 unknown if surgery performed \n",
    "\n",
    "126 blank"
   ]
  },
  {
   "cell_type": "code",
   "execution_count": 74,
   "id": "9d421a4c",
   "metadata": {
    "scrolled": true
   },
   "outputs": [
    {
     "data": {
      "text/plain": [
       "array([60, 31, 22, 30, 40, 27,  0, 50, 23, 45, 24, 37, 33, 41, 21, 20, 98,\n",
       "       52, 57, 99, 51, 59, 26, 25, 47, 42, 32, 46, 70, 48, 44, 14, 54, 90,\n",
       "       43, 16, 61, 67, 49, 56, 34, 13, 15, 12, 75, 55, 53, 36, 80, 63, 71,\n",
       "       68, 62, 28, 35, 72, 65, 64, 66, 17, 74, 29, 19, 10, 73, 38, 18, 58,\n",
       "       77, 11, 69, 78, 76], dtype=int64)"
      ]
     },
     "execution_count": 74,
     "metadata": {},
     "output_type": "execute_result"
    }
   ],
   "source": [
    "df2['RX Summ--Surg Prim Site (1998+)'].unique()"
   ]
  },
  {
   "cell_type": "code",
   "execution_count": 75,
   "id": "aa7d50a0",
   "metadata": {},
   "outputs": [],
   "source": [
    "df2 = df2[df2['RX Summ--Surg Prim Site (1998+)'] != 99]\n",
    "df2 = df2[df2['RX Summ--Surg Prim Site (1998+)'] != 126]\n",
    "#Drop blanks and unknowns\n",
    "onehotlist2.append('RX Summ--Surg Prim Site (1998+)')"
   ]
  },
  {
   "cell_type": "markdown",
   "id": "62d3578f",
   "metadata": {},
   "source": [
    "Lymph Node Surgery "
   ]
  },
  {
   "cell_type": "code",
   "execution_count": 76,
   "id": "4e0efa2d",
   "metadata": {},
   "outputs": [
    {
     "data": {
      "text/plain": [
       "array(['Blank(s)'], dtype=object)"
      ]
     },
     "execution_count": 76,
     "metadata": {},
     "output_type": "execute_result"
    }
   ],
   "source": [
    "df2['RX Summ--Reg LN Examined (1998-2002)'].unique()\n",
    "#Drop because all values are blank"
   ]
  },
  {
   "cell_type": "code",
   "execution_count": 77,
   "id": "058d9498",
   "metadata": {},
   "outputs": [],
   "source": [
    "df2 = df2.drop('RX Summ--Reg LN Examined (1998-2002)',axis=1)"
   ]
  },
  {
   "cell_type": "markdown",
   "id": "f069e07b",
   "metadata": {},
   "source": [
    "Other regions of surgery"
   ]
  },
  {
   "cell_type": "code",
   "execution_count": 78,
   "id": "5d96bf7b",
   "metadata": {
    "scrolled": true
   },
   "outputs": [
    {
     "data": {
      "text/plain": [
       "array(['None; diagnosed at autopsy',\n",
       "       'Any combo of sur proc to oth rg, dis lym nd, and/or dis site',\n",
       "       'Non-primary surgical procedure to other regional sites',\n",
       "       'Non-primary surgical procedure to distant lymph node(s)',\n",
       "       'Non-primary surgical procedure to distant site',\n",
       "       'Non-primary surgical procedure performed',\n",
       "       'Unknown; death certificate only'], dtype=object)"
      ]
     },
     "execution_count": 78,
     "metadata": {},
     "output_type": "execute_result"
    }
   ],
   "source": [
    "df2['RX Summ--Surg Oth Reg/Dis (2003+)'].unique()"
   ]
  },
  {
   "cell_type": "code",
   "execution_count": 79,
   "id": "a8ded711",
   "metadata": {},
   "outputs": [],
   "source": [
    "df2 =df2[df2['RX Summ--Surg Oth Reg/Dis (2003+)'] != 'Unknown; death certificate only']\n",
    "#Drop unknowns\n",
    "onehotlist2.append('RX Summ--Surg Oth Reg/Dis (2003+)')"
   ]
  },
  {
   "cell_type": "markdown",
   "id": "79f239ac",
   "metadata": {},
   "source": [
    "Whether or not regional lymph nodes were examined / removed"
   ]
  },
  {
   "cell_type": "code",
   "execution_count": 80,
   "id": "9b910b88",
   "metadata": {},
   "outputs": [
    {
     "data": {
      "text/plain": [
       "array(['None', 'Unknown or not applicable',\n",
       "       '4 or more regional lymph nodes removed',\n",
       "       '1 to 3 regional lymph nodes removed',\n",
       "       'Biopsy or aspiration of regional lymph node, NOS',\n",
       "       'Sentinel node biopsy and lym nd removed same/unstated time',\n",
       "       'Sentinel lymph node biopsy',\n",
       "       'Number of regional lymph nodes removed unknown',\n",
       "       'Sentinel node biopsy and lym nd removed different times'],\n",
       "      dtype=object)"
      ]
     },
     "execution_count": 80,
     "metadata": {},
     "output_type": "execute_result"
    }
   ],
   "source": [
    "df2['RX Summ--Scope Reg LN Sur (2003+)'].unique()"
   ]
  },
  {
   "cell_type": "code",
   "execution_count": 81,
   "id": "d3afd914",
   "metadata": {},
   "outputs": [],
   "source": [
    "df2 = df2[df2['RX Summ--Scope Reg LN Sur (2003+)'] != 'Unknown or not applicable']\n",
    "#Drop unknowns\n",
    "\n",
    "onehotlist2.append('RX Summ--Scope Reg LN Sur (2003+)')"
   ]
  },
  {
   "cell_type": "markdown",
   "id": "91504016",
   "metadata": {},
   "source": [
    "Tumor Size\n",
    "\n",
    "0 - 988 is exact size\n",
    "\n",
    "989 is 989 or larger\n",
    "\n",
    "999 is unknown\n",
    "\n",
    "1022 is blank"
   ]
  },
  {
   "cell_type": "code",
   "execution_count": 82,
   "id": "f1f9a006",
   "metadata": {
    "scrolled": true
   },
   "outputs": [],
   "source": [
    "df2 = df2[df2['Tumor Size Summary (2016+)'] != '999']\n",
    "df2 = df2[df2['Tumor Size Summary (2016+)'] != '1022']\n",
    "df2 = df2[df2['Tumor Size Summary (2016+)'] != 'Blank(s)']\n",
    "#Drop blanks and unknowns\n",
    "\n",
    "df2['Tumor > 989?'] = [i== '989' for i in df2['Tumor Size Summary (2016+)']]\n",
    "df2['Tumor > 989?']=df2['Tumor > 989?'].map({True:1,False:0})\n",
    "#Make new column for values larger than 989.\n",
    "\n",
    "df2['Tumor Size Summary (2016+)']=df2['Tumor Size Summary (2016+)'].apply(float)\n",
    "#Convert to numerical values"
   ]
  },
  {
   "cell_type": "markdown",
   "id": "c521a583",
   "metadata": {},
   "source": [
    "Regional Nodes\n",
    "\n",
    "0-89 is number of positive nodes\n",
    "\n",
    "90: 90+ nodes are positive\n",
    "\n",
    "95: positive aspiration of nodes performed\n",
    "\n",
    "97: positive nodes documented, number unspecified\n",
    "\n",
    "98: no nodes examined\n",
    "\n",
    "99: Unknown\n",
    "\n",
    "126: blank"
   ]
  },
  {
   "cell_type": "code",
   "execution_count": 83,
   "id": "1ce74a59",
   "metadata": {},
   "outputs": [
    {
     "data": {
      "text/plain": [
       "array([98,  0, 95,  4,  1,  3,  6, 24, 33,  2,  9, 99,  8,  5, 10, 12, 97,\n",
       "        7, 18, 11, 13, 14, 16, 34, 25, 17, 30, 19, 26, 15, 21, 31, 20, 38,\n",
       "       27, 22, 23, 32, 75, 40, 29, 54, 44, 37, 39], dtype=int64)"
      ]
     },
     "execution_count": 83,
     "metadata": {},
     "output_type": "execute_result"
    }
   ],
   "source": [
    "df2['Regional nodes positive (1988+)'].unique()"
   ]
  },
  {
   "cell_type": "code",
   "execution_count": 84,
   "id": "30db5d2f",
   "metadata": {},
   "outputs": [],
   "source": [
    "df2 = df2[df2['Regional nodes positive (1988+)'] != 99]\n",
    "df2 = df2[df2['Regional nodes positive (1988+)'] != 126]\n",
    "#Drop blanks and unknowns\n",
    "\n",
    "df2['nodes > 90'] = [i== 90 for i in df2['Regional nodes positive (1988+)']]\n",
    "df2['nodes > 90']=df2['nodes > 90'].map({True:1,False:0})\n",
    "#Make new column to state if nodes over 90."
   ]
  },
  {
   "cell_type": "markdown",
   "id": "69b5791f",
   "metadata": {},
   "source": [
    "Metastasis at Bone"
   ]
  },
  {
   "cell_type": "code",
   "execution_count": 85,
   "id": "4cff39f3",
   "metadata": {},
   "outputs": [
    {
     "data": {
      "text/plain": [
       "array(['No', 'Yes', 'Unknown'], dtype=object)"
      ]
     },
     "execution_count": 85,
     "metadata": {},
     "output_type": "execute_result"
    }
   ],
   "source": [
    "df2['SEER Combined Mets at DX-bone (2010+)'].unique()"
   ]
  },
  {
   "cell_type": "code",
   "execution_count": 86,
   "id": "6af09f2b",
   "metadata": {},
   "outputs": [],
   "source": [
    "df2 = df2[df2['SEER Combined Mets at DX-bone (2010+)']!= 'Unknown']\n",
    "#Drop unknowns\n",
    "df2['SEER Combined Mets at DX-bone (2010+)'] = df2['SEER Combined Mets at DX-bone (2010+)'].map({'No':0,'Yes':1})\n",
    "#Map to binary numerical"
   ]
  },
  {
   "cell_type": "markdown",
   "id": "c0e91c3b",
   "metadata": {},
   "source": [
    "Metastasis at Brain"
   ]
  },
  {
   "cell_type": "code",
   "execution_count": 87,
   "id": "ee0d3e3a",
   "metadata": {},
   "outputs": [
    {
     "data": {
      "text/plain": [
       "array(['No', 'Yes', 'Unknown'], dtype=object)"
      ]
     },
     "execution_count": 87,
     "metadata": {},
     "output_type": "execute_result"
    }
   ],
   "source": [
    "df2['SEER Combined Mets at DX-brain (2010+)'].unique()"
   ]
  },
  {
   "cell_type": "code",
   "execution_count": 88,
   "id": "f59c293f",
   "metadata": {},
   "outputs": [],
   "source": [
    "df2 = df2[df2['SEER Combined Mets at DX-brain (2010+)']!= 'Unknown']\n",
    "#Drop unknowns\n",
    "df2['SEER Combined Mets at DX-brain (2010+)'] = df2['SEER Combined Mets at DX-brain (2010+)'].map({'No':0,'Yes':1})\n",
    "#Map to binary numerical"
   ]
  },
  {
   "cell_type": "markdown",
   "id": "66af7195",
   "metadata": {},
   "source": [
    "Metastasis at Liver"
   ]
  },
  {
   "cell_type": "code",
   "execution_count": 89,
   "id": "a1eb5271",
   "metadata": {},
   "outputs": [
    {
     "data": {
      "text/plain": [
       "array(['No', 'Yes', 'Unknown'], dtype=object)"
      ]
     },
     "execution_count": 89,
     "metadata": {},
     "output_type": "execute_result"
    }
   ],
   "source": [
    "df2['SEER Combined Mets at DX-liver (2010+)'].unique()"
   ]
  },
  {
   "cell_type": "code",
   "execution_count": 90,
   "id": "15f4d1de",
   "metadata": {},
   "outputs": [],
   "source": [
    "df2 = df2[df2['SEER Combined Mets at DX-liver (2010+)']!= 'Unknown']\n",
    "#Drop unknowns\n",
    "df2['SEER Combined Mets at DX-liver (2010+)'] = df2['SEER Combined Mets at DX-liver (2010+)'].map({'No':0,'Yes':1})\n",
    "#Map to binary numerical"
   ]
  },
  {
   "cell_type": "markdown",
   "id": "230b9beb",
   "metadata": {},
   "source": [
    "Metastasis at Lung"
   ]
  },
  {
   "cell_type": "code",
   "execution_count": 91,
   "id": "b0d6764f",
   "metadata": {},
   "outputs": [
    {
     "data": {
      "text/plain": [
       "array(['No', 'Yes', 'Unknown'], dtype=object)"
      ]
     },
     "execution_count": 91,
     "metadata": {},
     "output_type": "execute_result"
    }
   ],
   "source": [
    "df2['SEER Combined Mets at DX-lung (2010+)'].unique()"
   ]
  },
  {
   "cell_type": "code",
   "execution_count": 92,
   "id": "871a9bb6",
   "metadata": {},
   "outputs": [],
   "source": [
    "df2 = df2[df2['SEER Combined Mets at DX-lung (2010+)']!= 'Unknown']\n",
    "#Drop unknowns\n",
    "df2['SEER Combined Mets at DX-lung (2010+)'] = df2['SEER Combined Mets at DX-lung (2010+)'].map({'No':0,'Yes':1})\n",
    "#Map to binary numerical"
   ]
  },
  {
   "cell_type": "markdown",
   "id": "dbaf0ed3",
   "metadata": {},
   "source": [
    "Extent of Disease"
   ]
  },
  {
   "cell_type": "code",
   "execution_count": 93,
   "id": "4a678e84",
   "metadata": {},
   "outputs": [
    {
     "data": {
      "text/plain": [
       "array(['Blank(s)'], dtype=object)"
      ]
     },
     "execution_count": 93,
     "metadata": {},
     "output_type": "execute_result"
    }
   ],
   "source": [
    "df2['EOD 10 - extent (1988-2003)'].unique()"
   ]
  },
  {
   "cell_type": "code",
   "execution_count": 94,
   "id": "988c1364",
   "metadata": {},
   "outputs": [
    {
     "data": {
      "text/plain": [
       "array(['Blank(s)'], dtype=object)"
      ]
     },
     "execution_count": 94,
     "metadata": {},
     "output_type": "execute_result"
    }
   ],
   "source": [
    "df2['EOD 10 - nodes (1988-2003)'].unique()"
   ]
  },
  {
   "cell_type": "code",
   "execution_count": 95,
   "id": "36a0a813",
   "metadata": {},
   "outputs": [
    {
     "data": {
      "text/plain": [
       "array(['Blank(s)'], dtype=object)"
      ]
     },
     "execution_count": 95,
     "metadata": {},
     "output_type": "execute_result"
    }
   ],
   "source": [
    "df2['EOD 10 - size (1988-2003)'].unique()"
   ]
  },
  {
   "cell_type": "code",
   "execution_count": 96,
   "id": "5c76736e",
   "metadata": {
    "scrolled": true
   },
   "outputs": [],
   "source": [
    "df2 = df2.drop(['EOD 10 - extent (1988-2003)','EOD 10 - nodes (1988-2003)','EOD 10 - size (1988-2003)'],axis = 1)\n",
    "#Drop these three features since they are all blanks"
   ]
  },
  {
   "cell_type": "code",
   "execution_count": 97,
   "id": "bf40d9f8",
   "metadata": {
    "scrolled": true
   },
   "outputs": [
    {
     "data": {
      "text/plain": [
       "array(['0042', '0017', '0004', '0000', '0009', '0018', '0015', '0005',\n",
       "       '0002', '0023', '0021', '0037', '0028', '0003', '0026', '0022',\n",
       "       '0014', '0008', '0019', '0031', '0001', '0010', '0025', '0020',\n",
       "       '0013', '0006', '0030', '0011', '0040', '0045', '0036', '0007',\n",
       "       '0032', '0035', '0027', '0044', '0016', '0034', '0043', '0012',\n",
       "       '0033', '0046', '0024', '0029', '0039', '0041', '0038', '0047',\n",
       "       'Unknown'], dtype=object)"
      ]
     },
     "execution_count": 97,
     "metadata": {},
     "output_type": "execute_result"
    }
   ],
   "source": [
    "df2['Survival months'].unique()"
   ]
  },
  {
   "cell_type": "code",
   "execution_count": 98,
   "id": "ad2e681b",
   "metadata": {},
   "outputs": [],
   "source": [
    "df2 = df2[df2['Survival months'] != 'Unknown']\n",
    "#Drop unknowns. These wouldn't have been able to be converted to float as well. They are also not useful to the model."
   ]
  },
  {
   "cell_type": "code",
   "execution_count": 99,
   "id": "96b38b3e",
   "metadata": {
    "scrolled": true
   },
   "outputs": [],
   "source": [
    "df2['Survival months'] = [float(i) for i in df2['Survival months']]\n",
    "#Replace strings with corresponding float."
   ]
  },
  {
   "cell_type": "code",
   "execution_count": 100,
   "id": "6f16c4b0",
   "metadata": {},
   "outputs": [
    {
     "name": "stdout",
     "output_type": "stream",
     "text": [
      "<class 'pandas.core.frame.DataFrame'>\n",
      "Int64Index: 19029 entries, 5463430 to 5843372\n",
      "Data columns (total 14 columns):\n",
      " #   Column                                  Non-Null Count  Dtype  \n",
      "---  ------                                  --------------  -----  \n",
      " 0   Age recode with <1 year olds            19029 non-null  float64\n",
      " 1   Combined Summary Stage (2004+)          19029 non-null  object \n",
      " 2   RX Summ--Surg Prim Site (1998+)         19029 non-null  int64  \n",
      " 3   RX Summ--Scope Reg LN Sur (2003+)       19029 non-null  object \n",
      " 4   RX Summ--Surg Oth Reg/Dis (2003+)       19029 non-null  object \n",
      " 5   Tumor Size Summary (2016+)              19029 non-null  float64\n",
      " 6   Regional nodes positive (1988+)         19029 non-null  int64  \n",
      " 7   SEER Combined Mets at DX-bone (2010+)   19029 non-null  int64  \n",
      " 8   SEER Combined Mets at DX-brain (2010+)  19029 non-null  int64  \n",
      " 9   SEER Combined Mets at DX-liver (2010+)  19029 non-null  int64  \n",
      " 10  SEER Combined Mets at DX-lung (2010+)   19029 non-null  int64  \n",
      " 11  Survival months                         19029 non-null  float64\n",
      " 12  Tumor > 989?                            19029 non-null  int64  \n",
      " 13  nodes > 90                              19029 non-null  int64  \n",
      "dtypes: float64(3), int64(8), object(3)\n",
      "memory usage: 2.2+ MB\n"
     ]
    }
   ],
   "source": [
    "df2.info()"
   ]
  },
  {
   "cell_type": "code",
   "execution_count": 101,
   "id": "2b42dfbe",
   "metadata": {},
   "outputs": [],
   "source": [
    "onehot2 = OneHotEncoder(drop = 'if_binary')\n",
    "#Fit and transform columns to OneHotEncoder, based on the features I chose to encode via onehotencoder.\n",
    "array2 = onehot2.fit_transform(df2[onehotlist2]).toarray()\n",
    "#Store array to variable array to later make dataframe.\n",
    "names2= onehot2.get_feature_names_out(onehotlist2)\n",
    "#Get feature names for dataframe columns\n",
    "onehotdf2 = pd.DataFrame(array2)\n",
    "#Make dataframe from array\n",
    "onehotdf2.columns = names2\n",
    "#Set column labels\n",
    "\n",
    "ddf = df2.reset_index().drop(onehotlist2,axis=1).join(onehotdf2)\n",
    "#ddf as in 'done'df. Reset index and drop original columns encoded by onehotencoder, then combine with the encoded columns\n",
    "ddf = ddf.drop('index',axis=1)"
   ]
  },
  {
   "cell_type": "code",
   "execution_count": 102,
   "id": "a735d3c7",
   "metadata": {},
   "outputs": [
    {
     "data": {
      "text/html": [
       "<div>\n",
       "<style scoped>\n",
       "    .dataframe tbody tr th:only-of-type {\n",
       "        vertical-align: middle;\n",
       "    }\n",
       "\n",
       "    .dataframe tbody tr th {\n",
       "        vertical-align: top;\n",
       "    }\n",
       "\n",
       "    .dataframe thead th {\n",
       "        text-align: right;\n",
       "    }\n",
       "</style>\n",
       "<table border=\"1\" class=\"dataframe\">\n",
       "  <thead>\n",
       "    <tr style=\"text-align: right;\">\n",
       "      <th></th>\n",
       "      <th>Age recode with &lt;1 year olds</th>\n",
       "      <th>Tumor Size Summary (2016+)</th>\n",
       "      <th>Regional nodes positive (1988+)</th>\n",
       "      <th>SEER Combined Mets at DX-bone (2010+)</th>\n",
       "      <th>SEER Combined Mets at DX-brain (2010+)</th>\n",
       "      <th>SEER Combined Mets at DX-liver (2010+)</th>\n",
       "      <th>SEER Combined Mets at DX-lung (2010+)</th>\n",
       "      <th>Survival months</th>\n",
       "      <th>Tumor &gt; 989?</th>\n",
       "      <th>nodes &gt; 90</th>\n",
       "      <th>...</th>\n",
       "      <th>RX Summ--Surg Oth Reg/Dis (2003+)_Non-primary surgical procedure to other regional sites</th>\n",
       "      <th>RX Summ--Surg Oth Reg/Dis (2003+)_None; diagnosed at autopsy</th>\n",
       "      <th>RX Summ--Scope Reg LN Sur (2003+)_1 to 3 regional lymph nodes removed</th>\n",
       "      <th>RX Summ--Scope Reg LN Sur (2003+)_4 or more regional lymph nodes removed</th>\n",
       "      <th>RX Summ--Scope Reg LN Sur (2003+)_Biopsy or aspiration of regional lymph node, NOS</th>\n",
       "      <th>RX Summ--Scope Reg LN Sur (2003+)_None</th>\n",
       "      <th>RX Summ--Scope Reg LN Sur (2003+)_Number of regional lymph nodes removed unknown</th>\n",
       "      <th>RX Summ--Scope Reg LN Sur (2003+)_Sentinel lymph node biopsy</th>\n",
       "      <th>RX Summ--Scope Reg LN Sur (2003+)_Sentinel node biopsy and lym nd removed different times</th>\n",
       "      <th>RX Summ--Scope Reg LN Sur (2003+)_Sentinel node biopsy and lym nd removed same/unstated time</th>\n",
       "    </tr>\n",
       "  </thead>\n",
       "  <tbody>\n",
       "    <tr>\n",
       "      <th>0</th>\n",
       "      <td>37.0</td>\n",
       "      <td>37.0</td>\n",
       "      <td>98</td>\n",
       "      <td>0</td>\n",
       "      <td>0</td>\n",
       "      <td>0</td>\n",
       "      <td>0</td>\n",
       "      <td>42.0</td>\n",
       "      <td>0</td>\n",
       "      <td>0</td>\n",
       "      <td>...</td>\n",
       "      <td>0.0</td>\n",
       "      <td>1.0</td>\n",
       "      <td>0.0</td>\n",
       "      <td>0.0</td>\n",
       "      <td>0.0</td>\n",
       "      <td>1.0</td>\n",
       "      <td>0.0</td>\n",
       "      <td>0.0</td>\n",
       "      <td>0.0</td>\n",
       "      <td>0.0</td>\n",
       "    </tr>\n",
       "    <tr>\n",
       "      <th>1</th>\n",
       "      <td>85.0</td>\n",
       "      <td>49.0</td>\n",
       "      <td>98</td>\n",
       "      <td>0</td>\n",
       "      <td>0</td>\n",
       "      <td>0</td>\n",
       "      <td>0</td>\n",
       "      <td>17.0</td>\n",
       "      <td>0</td>\n",
       "      <td>0</td>\n",
       "      <td>...</td>\n",
       "      <td>0.0</td>\n",
       "      <td>1.0</td>\n",
       "      <td>0.0</td>\n",
       "      <td>0.0</td>\n",
       "      <td>0.0</td>\n",
       "      <td>1.0</td>\n",
       "      <td>0.0</td>\n",
       "      <td>0.0</td>\n",
       "      <td>0.0</td>\n",
       "      <td>0.0</td>\n",
       "    </tr>\n",
       "    <tr>\n",
       "      <th>2</th>\n",
       "      <td>67.0</td>\n",
       "      <td>35.0</td>\n",
       "      <td>0</td>\n",
       "      <td>0</td>\n",
       "      <td>0</td>\n",
       "      <td>0</td>\n",
       "      <td>0</td>\n",
       "      <td>4.0</td>\n",
       "      <td>0</td>\n",
       "      <td>0</td>\n",
       "      <td>...</td>\n",
       "      <td>0.0</td>\n",
       "      <td>1.0</td>\n",
       "      <td>0.0</td>\n",
       "      <td>1.0</td>\n",
       "      <td>0.0</td>\n",
       "      <td>0.0</td>\n",
       "      <td>0.0</td>\n",
       "      <td>0.0</td>\n",
       "      <td>0.0</td>\n",
       "      <td>0.0</td>\n",
       "    </tr>\n",
       "    <tr>\n",
       "      <th>3</th>\n",
       "      <td>67.0</td>\n",
       "      <td>65.0</td>\n",
       "      <td>98</td>\n",
       "      <td>0</td>\n",
       "      <td>0</td>\n",
       "      <td>0</td>\n",
       "      <td>0</td>\n",
       "      <td>0.0</td>\n",
       "      <td>0</td>\n",
       "      <td>0</td>\n",
       "      <td>...</td>\n",
       "      <td>0.0</td>\n",
       "      <td>1.0</td>\n",
       "      <td>0.0</td>\n",
       "      <td>0.0</td>\n",
       "      <td>0.0</td>\n",
       "      <td>1.0</td>\n",
       "      <td>0.0</td>\n",
       "      <td>0.0</td>\n",
       "      <td>0.0</td>\n",
       "      <td>0.0</td>\n",
       "    </tr>\n",
       "    <tr>\n",
       "      <th>4</th>\n",
       "      <td>72.0</td>\n",
       "      <td>82.0</td>\n",
       "      <td>95</td>\n",
       "      <td>0</td>\n",
       "      <td>0</td>\n",
       "      <td>0</td>\n",
       "      <td>0</td>\n",
       "      <td>9.0</td>\n",
       "      <td>0</td>\n",
       "      <td>0</td>\n",
       "      <td>...</td>\n",
       "      <td>0.0</td>\n",
       "      <td>1.0</td>\n",
       "      <td>0.0</td>\n",
       "      <td>0.0</td>\n",
       "      <td>1.0</td>\n",
       "      <td>0.0</td>\n",
       "      <td>0.0</td>\n",
       "      <td>0.0</td>\n",
       "      <td>0.0</td>\n",
       "      <td>0.0</td>\n",
       "    </tr>\n",
       "    <tr>\n",
       "      <th>...</th>\n",
       "      <td>...</td>\n",
       "      <td>...</td>\n",
       "      <td>...</td>\n",
       "      <td>...</td>\n",
       "      <td>...</td>\n",
       "      <td>...</td>\n",
       "      <td>...</td>\n",
       "      <td>...</td>\n",
       "      <td>...</td>\n",
       "      <td>...</td>\n",
       "      <td>...</td>\n",
       "      <td>...</td>\n",
       "      <td>...</td>\n",
       "      <td>...</td>\n",
       "      <td>...</td>\n",
       "      <td>...</td>\n",
       "      <td>...</td>\n",
       "      <td>...</td>\n",
       "      <td>...</td>\n",
       "      <td>...</td>\n",
       "      <td>...</td>\n",
       "    </tr>\n",
       "    <tr>\n",
       "      <th>19024</th>\n",
       "      <td>32.0</td>\n",
       "      <td>32.0</td>\n",
       "      <td>5</td>\n",
       "      <td>0</td>\n",
       "      <td>0</td>\n",
       "      <td>0</td>\n",
       "      <td>0</td>\n",
       "      <td>39.0</td>\n",
       "      <td>0</td>\n",
       "      <td>0</td>\n",
       "      <td>...</td>\n",
       "      <td>0.0</td>\n",
       "      <td>1.0</td>\n",
       "      <td>0.0</td>\n",
       "      <td>1.0</td>\n",
       "      <td>0.0</td>\n",
       "      <td>0.0</td>\n",
       "      <td>0.0</td>\n",
       "      <td>0.0</td>\n",
       "      <td>0.0</td>\n",
       "      <td>0.0</td>\n",
       "    </tr>\n",
       "    <tr>\n",
       "      <th>19025</th>\n",
       "      <td>82.0</td>\n",
       "      <td>5.0</td>\n",
       "      <td>0</td>\n",
       "      <td>0</td>\n",
       "      <td>0</td>\n",
       "      <td>0</td>\n",
       "      <td>0</td>\n",
       "      <td>15.0</td>\n",
       "      <td>0</td>\n",
       "      <td>0</td>\n",
       "      <td>...</td>\n",
       "      <td>0.0</td>\n",
       "      <td>1.0</td>\n",
       "      <td>1.0</td>\n",
       "      <td>0.0</td>\n",
       "      <td>0.0</td>\n",
       "      <td>0.0</td>\n",
       "      <td>0.0</td>\n",
       "      <td>0.0</td>\n",
       "      <td>0.0</td>\n",
       "      <td>0.0</td>\n",
       "    </tr>\n",
       "    <tr>\n",
       "      <th>19026</th>\n",
       "      <td>67.0</td>\n",
       "      <td>130.0</td>\n",
       "      <td>98</td>\n",
       "      <td>0</td>\n",
       "      <td>0</td>\n",
       "      <td>0</td>\n",
       "      <td>0</td>\n",
       "      <td>41.0</td>\n",
       "      <td>0</td>\n",
       "      <td>0</td>\n",
       "      <td>...</td>\n",
       "      <td>0.0</td>\n",
       "      <td>1.0</td>\n",
       "      <td>0.0</td>\n",
       "      <td>0.0</td>\n",
       "      <td>0.0</td>\n",
       "      <td>1.0</td>\n",
       "      <td>0.0</td>\n",
       "      <td>0.0</td>\n",
       "      <td>0.0</td>\n",
       "      <td>0.0</td>\n",
       "    </tr>\n",
       "    <tr>\n",
       "      <th>19027</th>\n",
       "      <td>67.0</td>\n",
       "      <td>50.0</td>\n",
       "      <td>0</td>\n",
       "      <td>0</td>\n",
       "      <td>0</td>\n",
       "      <td>0</td>\n",
       "      <td>0</td>\n",
       "      <td>24.0</td>\n",
       "      <td>0</td>\n",
       "      <td>0</td>\n",
       "      <td>...</td>\n",
       "      <td>1.0</td>\n",
       "      <td>0.0</td>\n",
       "      <td>0.0</td>\n",
       "      <td>1.0</td>\n",
       "      <td>0.0</td>\n",
       "      <td>0.0</td>\n",
       "      <td>0.0</td>\n",
       "      <td>0.0</td>\n",
       "      <td>0.0</td>\n",
       "      <td>0.0</td>\n",
       "    </tr>\n",
       "    <tr>\n",
       "      <th>19028</th>\n",
       "      <td>77.0</td>\n",
       "      <td>150.0</td>\n",
       "      <td>98</td>\n",
       "      <td>1</td>\n",
       "      <td>0</td>\n",
       "      <td>0</td>\n",
       "      <td>1</td>\n",
       "      <td>4.0</td>\n",
       "      <td>0</td>\n",
       "      <td>0</td>\n",
       "      <td>...</td>\n",
       "      <td>0.0</td>\n",
       "      <td>1.0</td>\n",
       "      <td>0.0</td>\n",
       "      <td>0.0</td>\n",
       "      <td>0.0</td>\n",
       "      <td>1.0</td>\n",
       "      <td>0.0</td>\n",
       "      <td>0.0</td>\n",
       "      <td>0.0</td>\n",
       "      <td>0.0</td>\n",
       "    </tr>\n",
       "  </tbody>\n",
       "</table>\n",
       "<p>19029 rows × 87 columns</p>\n",
       "</div>"
      ],
      "text/plain": [
       "       Age recode with <1 year olds  Tumor Size Summary (2016+)  \\\n",
       "0                              37.0                        37.0   \n",
       "1                              85.0                        49.0   \n",
       "2                              67.0                        35.0   \n",
       "3                              67.0                        65.0   \n",
       "4                              72.0                        82.0   \n",
       "...                             ...                         ...   \n",
       "19024                          32.0                        32.0   \n",
       "19025                          82.0                         5.0   \n",
       "19026                          67.0                       130.0   \n",
       "19027                          67.0                        50.0   \n",
       "19028                          77.0                       150.0   \n",
       "\n",
       "       Regional nodes positive (1988+)  SEER Combined Mets at DX-bone (2010+)  \\\n",
       "0                                   98                                      0   \n",
       "1                                   98                                      0   \n",
       "2                                    0                                      0   \n",
       "3                                   98                                      0   \n",
       "4                                   95                                      0   \n",
       "...                                ...                                    ...   \n",
       "19024                                5                                      0   \n",
       "19025                                0                                      0   \n",
       "19026                               98                                      0   \n",
       "19027                                0                                      0   \n",
       "19028                               98                                      1   \n",
       "\n",
       "       SEER Combined Mets at DX-brain (2010+)  \\\n",
       "0                                           0   \n",
       "1                                           0   \n",
       "2                                           0   \n",
       "3                                           0   \n",
       "4                                           0   \n",
       "...                                       ...   \n",
       "19024                                       0   \n",
       "19025                                       0   \n",
       "19026                                       0   \n",
       "19027                                       0   \n",
       "19028                                       0   \n",
       "\n",
       "       SEER Combined Mets at DX-liver (2010+)  \\\n",
       "0                                           0   \n",
       "1                                           0   \n",
       "2                                           0   \n",
       "3                                           0   \n",
       "4                                           0   \n",
       "...                                       ...   \n",
       "19024                                       0   \n",
       "19025                                       0   \n",
       "19026                                       0   \n",
       "19027                                       0   \n",
       "19028                                       0   \n",
       "\n",
       "       SEER Combined Mets at DX-lung (2010+)  Survival months  Tumor > 989?  \\\n",
       "0                                          0             42.0             0   \n",
       "1                                          0             17.0             0   \n",
       "2                                          0              4.0             0   \n",
       "3                                          0              0.0             0   \n",
       "4                                          0              9.0             0   \n",
       "...                                      ...              ...           ...   \n",
       "19024                                      0             39.0             0   \n",
       "19025                                      0             15.0             0   \n",
       "19026                                      0             41.0             0   \n",
       "19027                                      0             24.0             0   \n",
       "19028                                      1              4.0             0   \n",
       "\n",
       "       nodes > 90  ...  \\\n",
       "0               0  ...   \n",
       "1               0  ...   \n",
       "2               0  ...   \n",
       "3               0  ...   \n",
       "4               0  ...   \n",
       "...           ...  ...   \n",
       "19024           0  ...   \n",
       "19025           0  ...   \n",
       "19026           0  ...   \n",
       "19027           0  ...   \n",
       "19028           0  ...   \n",
       "\n",
       "       RX Summ--Surg Oth Reg/Dis (2003+)_Non-primary surgical procedure to other regional sites  \\\n",
       "0                                                    0.0                                          \n",
       "1                                                    0.0                                          \n",
       "2                                                    0.0                                          \n",
       "3                                                    0.0                                          \n",
       "4                                                    0.0                                          \n",
       "...                                                  ...                                          \n",
       "19024                                                0.0                                          \n",
       "19025                                                0.0                                          \n",
       "19026                                                0.0                                          \n",
       "19027                                                1.0                                          \n",
       "19028                                                0.0                                          \n",
       "\n",
       "       RX Summ--Surg Oth Reg/Dis (2003+)_None; diagnosed at autopsy  \\\n",
       "0                                                    1.0              \n",
       "1                                                    1.0              \n",
       "2                                                    1.0              \n",
       "3                                                    1.0              \n",
       "4                                                    1.0              \n",
       "...                                                  ...              \n",
       "19024                                                1.0              \n",
       "19025                                                1.0              \n",
       "19026                                                1.0              \n",
       "19027                                                0.0              \n",
       "19028                                                1.0              \n",
       "\n",
       "       RX Summ--Scope Reg LN Sur (2003+)_1 to 3 regional lymph nodes removed  \\\n",
       "0                                                    0.0                       \n",
       "1                                                    0.0                       \n",
       "2                                                    0.0                       \n",
       "3                                                    0.0                       \n",
       "4                                                    0.0                       \n",
       "...                                                  ...                       \n",
       "19024                                                0.0                       \n",
       "19025                                                1.0                       \n",
       "19026                                                0.0                       \n",
       "19027                                                0.0                       \n",
       "19028                                                0.0                       \n",
       "\n",
       "       RX Summ--Scope Reg LN Sur (2003+)_4 or more regional lymph nodes removed  \\\n",
       "0                                                    0.0                          \n",
       "1                                                    0.0                          \n",
       "2                                                    1.0                          \n",
       "3                                                    0.0                          \n",
       "4                                                    0.0                          \n",
       "...                                                  ...                          \n",
       "19024                                                1.0                          \n",
       "19025                                                0.0                          \n",
       "19026                                                0.0                          \n",
       "19027                                                1.0                          \n",
       "19028                                                0.0                          \n",
       "\n",
       "       RX Summ--Scope Reg LN Sur (2003+)_Biopsy or aspiration of regional lymph node, NOS  \\\n",
       "0                                                    0.0                                    \n",
       "1                                                    0.0                                    \n",
       "2                                                    0.0                                    \n",
       "3                                                    0.0                                    \n",
       "4                                                    1.0                                    \n",
       "...                                                  ...                                    \n",
       "19024                                                0.0                                    \n",
       "19025                                                0.0                                    \n",
       "19026                                                0.0                                    \n",
       "19027                                                0.0                                    \n",
       "19028                                                0.0                                    \n",
       "\n",
       "       RX Summ--Scope Reg LN Sur (2003+)_None  \\\n",
       "0                                         1.0   \n",
       "1                                         1.0   \n",
       "2                                         0.0   \n",
       "3                                         1.0   \n",
       "4                                         0.0   \n",
       "...                                       ...   \n",
       "19024                                     0.0   \n",
       "19025                                     0.0   \n",
       "19026                                     1.0   \n",
       "19027                                     0.0   \n",
       "19028                                     1.0   \n",
       "\n",
       "       RX Summ--Scope Reg LN Sur (2003+)_Number of regional lymph nodes removed unknown  \\\n",
       "0                                                    0.0                                  \n",
       "1                                                    0.0                                  \n",
       "2                                                    0.0                                  \n",
       "3                                                    0.0                                  \n",
       "4                                                    0.0                                  \n",
       "...                                                  ...                                  \n",
       "19024                                                0.0                                  \n",
       "19025                                                0.0                                  \n",
       "19026                                                0.0                                  \n",
       "19027                                                0.0                                  \n",
       "19028                                                0.0                                  \n",
       "\n",
       "       RX Summ--Scope Reg LN Sur (2003+)_Sentinel lymph node biopsy  \\\n",
       "0                                                    0.0              \n",
       "1                                                    0.0              \n",
       "2                                                    0.0              \n",
       "3                                                    0.0              \n",
       "4                                                    0.0              \n",
       "...                                                  ...              \n",
       "19024                                                0.0              \n",
       "19025                                                0.0              \n",
       "19026                                                0.0              \n",
       "19027                                                0.0              \n",
       "19028                                                0.0              \n",
       "\n",
       "       RX Summ--Scope Reg LN Sur (2003+)_Sentinel node biopsy and lym nd removed different times  \\\n",
       "0                                                    0.0                                           \n",
       "1                                                    0.0                                           \n",
       "2                                                    0.0                                           \n",
       "3                                                    0.0                                           \n",
       "4                                                    0.0                                           \n",
       "...                                                  ...                                           \n",
       "19024                                                0.0                                           \n",
       "19025                                                0.0                                           \n",
       "19026                                                0.0                                           \n",
       "19027                                                0.0                                           \n",
       "19028                                                0.0                                           \n",
       "\n",
       "       RX Summ--Scope Reg LN Sur (2003+)_Sentinel node biopsy and lym nd removed same/unstated time  \n",
       "0                                                    0.0                                             \n",
       "1                                                    0.0                                             \n",
       "2                                                    0.0                                             \n",
       "3                                                    0.0                                             \n",
       "4                                                    0.0                                             \n",
       "...                                                  ...                                             \n",
       "19024                                                0.0                                             \n",
       "19025                                                0.0                                             \n",
       "19026                                                0.0                                             \n",
       "19027                                                0.0                                             \n",
       "19028                                                0.0                                             \n",
       "\n",
       "[19029 rows x 87 columns]"
      ]
     },
     "execution_count": 102,
     "metadata": {},
     "output_type": "execute_result"
    }
   ],
   "source": [
    "ddf"
   ]
  },
  {
   "cell_type": "markdown",
   "id": "d564a107",
   "metadata": {},
   "source": [
    "### Data Analysis"
   ]
  },
  {
   "cell_type": "code",
   "execution_count": 103,
   "id": "42b5010f",
   "metadata": {},
   "outputs": [],
   "source": [
    "survcorr = ddf.corr()['Survival months']\n",
    "#Get correlation of all values with survival months to get an idea of the most important columns, since will be predicting this."
   ]
  },
  {
   "cell_type": "code",
   "execution_count": 104,
   "id": "a1b7656b",
   "metadata": {},
   "outputs": [
    {
     "data": {
      "text/plain": [
       "Survival months                             1.000000\n",
       "RX Summ--Surg Prim Site (1998+)_0           0.318514\n",
       "Combined Summary Stage (2004+)_Distant      0.291200\n",
       "SEER Combined Mets at DX-liver (2010+)      0.191292\n",
       "Combined Summary Stage (2004+)_Localized    0.176131\n",
       "                                              ...   \n",
       "RX Summ--Surg Prim Site (1998+)_56          0.002103\n",
       "RX Summ--Surg Prim Site (1998+)_42          0.001362\n",
       "RX Summ--Surg Prim Site (1998+)_65          0.000692\n",
       "RX Summ--Surg Prim Site (1998+)_43          0.000509\n",
       "nodes > 90                                       NaN\n",
       "Name: Survival months, Length: 87, dtype: float64"
      ]
     },
     "execution_count": 104,
     "metadata": {},
     "output_type": "execute_result"
    }
   ],
   "source": [
    "abs(survcorr).sort_values(ascending=False)\n",
    "#Highest absolute correlations are year of diagnosis, which makes sense, but is fairly useless since we expect to see this, and whether or not the patient is currently alive, which also makes sense as we would expect shorter lived patients to have likely already died. \n",
    "#Consider dropping both of these columns, or at least year."
   ]
  },
  {
   "cell_type": "markdown",
   "id": "4da440ac",
   "metadata": {},
   "source": [
    "#### Split data for analysis"
   ]
  },
  {
   "cell_type": "code",
   "execution_count": 105,
   "id": "82322fe1",
   "metadata": {},
   "outputs": [],
   "source": [
    "train, test = train_test_split(ddf)\n",
    "#Train test split of the processed dataframe\n",
    "\n",
    "X_train = train.drop('Survival months',axis=1)\n",
    "X_test = test.drop('Survival months', axis=1)\n",
    "y_train = train['Survival months']\n",
    "y_test = test['Survival months']"
   ]
  },
  {
   "cell_type": "code",
   "execution_count": 106,
   "id": "ae4b7ac3",
   "metadata": {
    "scrolled": false
   },
   "outputs": [
    {
     "data": {
      "text/html": [
       "<div>\n",
       "<style scoped>\n",
       "    .dataframe tbody tr th:only-of-type {\n",
       "        vertical-align: middle;\n",
       "    }\n",
       "\n",
       "    .dataframe tbody tr th {\n",
       "        vertical-align: top;\n",
       "    }\n",
       "\n",
       "    .dataframe thead th {\n",
       "        text-align: right;\n",
       "    }\n",
       "</style>\n",
       "<table border=\"1\" class=\"dataframe\">\n",
       "  <thead>\n",
       "    <tr style=\"text-align: right;\">\n",
       "      <th></th>\n",
       "      <th>Age recode with &lt;1 year olds</th>\n",
       "      <th>Tumor Size Summary (2016+)</th>\n",
       "      <th>Regional nodes positive (1988+)</th>\n",
       "      <th>SEER Combined Mets at DX-bone (2010+)</th>\n",
       "      <th>SEER Combined Mets at DX-brain (2010+)</th>\n",
       "      <th>SEER Combined Mets at DX-liver (2010+)</th>\n",
       "      <th>SEER Combined Mets at DX-lung (2010+)</th>\n",
       "      <th>Survival months</th>\n",
       "      <th>Tumor &gt; 989?</th>\n",
       "      <th>nodes &gt; 90</th>\n",
       "      <th>...</th>\n",
       "      <th>RX Summ--Surg Oth Reg/Dis (2003+)_Non-primary surgical procedure to other regional sites</th>\n",
       "      <th>RX Summ--Surg Oth Reg/Dis (2003+)_None; diagnosed at autopsy</th>\n",
       "      <th>RX Summ--Scope Reg LN Sur (2003+)_1 to 3 regional lymph nodes removed</th>\n",
       "      <th>RX Summ--Scope Reg LN Sur (2003+)_4 or more regional lymph nodes removed</th>\n",
       "      <th>RX Summ--Scope Reg LN Sur (2003+)_Biopsy or aspiration of regional lymph node, NOS</th>\n",
       "      <th>RX Summ--Scope Reg LN Sur (2003+)_None</th>\n",
       "      <th>RX Summ--Scope Reg LN Sur (2003+)_Number of regional lymph nodes removed unknown</th>\n",
       "      <th>RX Summ--Scope Reg LN Sur (2003+)_Sentinel lymph node biopsy</th>\n",
       "      <th>RX Summ--Scope Reg LN Sur (2003+)_Sentinel node biopsy and lym nd removed different times</th>\n",
       "      <th>RX Summ--Scope Reg LN Sur (2003+)_Sentinel node biopsy and lym nd removed same/unstated time</th>\n",
       "    </tr>\n",
       "  </thead>\n",
       "  <tbody>\n",
       "    <tr>\n",
       "      <th>0</th>\n",
       "      <td>37.0</td>\n",
       "      <td>37.0</td>\n",
       "      <td>98</td>\n",
       "      <td>0</td>\n",
       "      <td>0</td>\n",
       "      <td>0</td>\n",
       "      <td>0</td>\n",
       "      <td>42.0</td>\n",
       "      <td>0</td>\n",
       "      <td>0</td>\n",
       "      <td>...</td>\n",
       "      <td>0.0</td>\n",
       "      <td>1.0</td>\n",
       "      <td>0.0</td>\n",
       "      <td>0.0</td>\n",
       "      <td>0.0</td>\n",
       "      <td>1.0</td>\n",
       "      <td>0.0</td>\n",
       "      <td>0.0</td>\n",
       "      <td>0.0</td>\n",
       "      <td>0.0</td>\n",
       "    </tr>\n",
       "    <tr>\n",
       "      <th>1</th>\n",
       "      <td>85.0</td>\n",
       "      <td>49.0</td>\n",
       "      <td>98</td>\n",
       "      <td>0</td>\n",
       "      <td>0</td>\n",
       "      <td>0</td>\n",
       "      <td>0</td>\n",
       "      <td>17.0</td>\n",
       "      <td>0</td>\n",
       "      <td>0</td>\n",
       "      <td>...</td>\n",
       "      <td>0.0</td>\n",
       "      <td>1.0</td>\n",
       "      <td>0.0</td>\n",
       "      <td>0.0</td>\n",
       "      <td>0.0</td>\n",
       "      <td>1.0</td>\n",
       "      <td>0.0</td>\n",
       "      <td>0.0</td>\n",
       "      <td>0.0</td>\n",
       "      <td>0.0</td>\n",
       "    </tr>\n",
       "    <tr>\n",
       "      <th>2</th>\n",
       "      <td>67.0</td>\n",
       "      <td>35.0</td>\n",
       "      <td>0</td>\n",
       "      <td>0</td>\n",
       "      <td>0</td>\n",
       "      <td>0</td>\n",
       "      <td>0</td>\n",
       "      <td>4.0</td>\n",
       "      <td>0</td>\n",
       "      <td>0</td>\n",
       "      <td>...</td>\n",
       "      <td>0.0</td>\n",
       "      <td>1.0</td>\n",
       "      <td>0.0</td>\n",
       "      <td>1.0</td>\n",
       "      <td>0.0</td>\n",
       "      <td>0.0</td>\n",
       "      <td>0.0</td>\n",
       "      <td>0.0</td>\n",
       "      <td>0.0</td>\n",
       "      <td>0.0</td>\n",
       "    </tr>\n",
       "    <tr>\n",
       "      <th>3</th>\n",
       "      <td>67.0</td>\n",
       "      <td>65.0</td>\n",
       "      <td>98</td>\n",
       "      <td>0</td>\n",
       "      <td>0</td>\n",
       "      <td>0</td>\n",
       "      <td>0</td>\n",
       "      <td>0.0</td>\n",
       "      <td>0</td>\n",
       "      <td>0</td>\n",
       "      <td>...</td>\n",
       "      <td>0.0</td>\n",
       "      <td>1.0</td>\n",
       "      <td>0.0</td>\n",
       "      <td>0.0</td>\n",
       "      <td>0.0</td>\n",
       "      <td>1.0</td>\n",
       "      <td>0.0</td>\n",
       "      <td>0.0</td>\n",
       "      <td>0.0</td>\n",
       "      <td>0.0</td>\n",
       "    </tr>\n",
       "    <tr>\n",
       "      <th>4</th>\n",
       "      <td>72.0</td>\n",
       "      <td>82.0</td>\n",
       "      <td>95</td>\n",
       "      <td>0</td>\n",
       "      <td>0</td>\n",
       "      <td>0</td>\n",
       "      <td>0</td>\n",
       "      <td>9.0</td>\n",
       "      <td>0</td>\n",
       "      <td>0</td>\n",
       "      <td>...</td>\n",
       "      <td>0.0</td>\n",
       "      <td>1.0</td>\n",
       "      <td>0.0</td>\n",
       "      <td>0.0</td>\n",
       "      <td>1.0</td>\n",
       "      <td>0.0</td>\n",
       "      <td>0.0</td>\n",
       "      <td>0.0</td>\n",
       "      <td>0.0</td>\n",
       "      <td>0.0</td>\n",
       "    </tr>\n",
       "    <tr>\n",
       "      <th>...</th>\n",
       "      <td>...</td>\n",
       "      <td>...</td>\n",
       "      <td>...</td>\n",
       "      <td>...</td>\n",
       "      <td>...</td>\n",
       "      <td>...</td>\n",
       "      <td>...</td>\n",
       "      <td>...</td>\n",
       "      <td>...</td>\n",
       "      <td>...</td>\n",
       "      <td>...</td>\n",
       "      <td>...</td>\n",
       "      <td>...</td>\n",
       "      <td>...</td>\n",
       "      <td>...</td>\n",
       "      <td>...</td>\n",
       "      <td>...</td>\n",
       "      <td>...</td>\n",
       "      <td>...</td>\n",
       "      <td>...</td>\n",
       "      <td>...</td>\n",
       "    </tr>\n",
       "    <tr>\n",
       "      <th>19024</th>\n",
       "      <td>32.0</td>\n",
       "      <td>32.0</td>\n",
       "      <td>5</td>\n",
       "      <td>0</td>\n",
       "      <td>0</td>\n",
       "      <td>0</td>\n",
       "      <td>0</td>\n",
       "      <td>39.0</td>\n",
       "      <td>0</td>\n",
       "      <td>0</td>\n",
       "      <td>...</td>\n",
       "      <td>0.0</td>\n",
       "      <td>1.0</td>\n",
       "      <td>0.0</td>\n",
       "      <td>1.0</td>\n",
       "      <td>0.0</td>\n",
       "      <td>0.0</td>\n",
       "      <td>0.0</td>\n",
       "      <td>0.0</td>\n",
       "      <td>0.0</td>\n",
       "      <td>0.0</td>\n",
       "    </tr>\n",
       "    <tr>\n",
       "      <th>19025</th>\n",
       "      <td>82.0</td>\n",
       "      <td>5.0</td>\n",
       "      <td>0</td>\n",
       "      <td>0</td>\n",
       "      <td>0</td>\n",
       "      <td>0</td>\n",
       "      <td>0</td>\n",
       "      <td>15.0</td>\n",
       "      <td>0</td>\n",
       "      <td>0</td>\n",
       "      <td>...</td>\n",
       "      <td>0.0</td>\n",
       "      <td>1.0</td>\n",
       "      <td>1.0</td>\n",
       "      <td>0.0</td>\n",
       "      <td>0.0</td>\n",
       "      <td>0.0</td>\n",
       "      <td>0.0</td>\n",
       "      <td>0.0</td>\n",
       "      <td>0.0</td>\n",
       "      <td>0.0</td>\n",
       "    </tr>\n",
       "    <tr>\n",
       "      <th>19026</th>\n",
       "      <td>67.0</td>\n",
       "      <td>130.0</td>\n",
       "      <td>98</td>\n",
       "      <td>0</td>\n",
       "      <td>0</td>\n",
       "      <td>0</td>\n",
       "      <td>0</td>\n",
       "      <td>41.0</td>\n",
       "      <td>0</td>\n",
       "      <td>0</td>\n",
       "      <td>...</td>\n",
       "      <td>0.0</td>\n",
       "      <td>1.0</td>\n",
       "      <td>0.0</td>\n",
       "      <td>0.0</td>\n",
       "      <td>0.0</td>\n",
       "      <td>1.0</td>\n",
       "      <td>0.0</td>\n",
       "      <td>0.0</td>\n",
       "      <td>0.0</td>\n",
       "      <td>0.0</td>\n",
       "    </tr>\n",
       "    <tr>\n",
       "      <th>19027</th>\n",
       "      <td>67.0</td>\n",
       "      <td>50.0</td>\n",
       "      <td>0</td>\n",
       "      <td>0</td>\n",
       "      <td>0</td>\n",
       "      <td>0</td>\n",
       "      <td>0</td>\n",
       "      <td>24.0</td>\n",
       "      <td>0</td>\n",
       "      <td>0</td>\n",
       "      <td>...</td>\n",
       "      <td>1.0</td>\n",
       "      <td>0.0</td>\n",
       "      <td>0.0</td>\n",
       "      <td>1.0</td>\n",
       "      <td>0.0</td>\n",
       "      <td>0.0</td>\n",
       "      <td>0.0</td>\n",
       "      <td>0.0</td>\n",
       "      <td>0.0</td>\n",
       "      <td>0.0</td>\n",
       "    </tr>\n",
       "    <tr>\n",
       "      <th>19028</th>\n",
       "      <td>77.0</td>\n",
       "      <td>150.0</td>\n",
       "      <td>98</td>\n",
       "      <td>1</td>\n",
       "      <td>0</td>\n",
       "      <td>0</td>\n",
       "      <td>1</td>\n",
       "      <td>4.0</td>\n",
       "      <td>0</td>\n",
       "      <td>0</td>\n",
       "      <td>...</td>\n",
       "      <td>0.0</td>\n",
       "      <td>1.0</td>\n",
       "      <td>0.0</td>\n",
       "      <td>0.0</td>\n",
       "      <td>0.0</td>\n",
       "      <td>1.0</td>\n",
       "      <td>0.0</td>\n",
       "      <td>0.0</td>\n",
       "      <td>0.0</td>\n",
       "      <td>0.0</td>\n",
       "    </tr>\n",
       "  </tbody>\n",
       "</table>\n",
       "<p>19029 rows × 87 columns</p>\n",
       "</div>"
      ],
      "text/plain": [
       "       Age recode with <1 year olds  Tumor Size Summary (2016+)  \\\n",
       "0                              37.0                        37.0   \n",
       "1                              85.0                        49.0   \n",
       "2                              67.0                        35.0   \n",
       "3                              67.0                        65.0   \n",
       "4                              72.0                        82.0   \n",
       "...                             ...                         ...   \n",
       "19024                          32.0                        32.0   \n",
       "19025                          82.0                         5.0   \n",
       "19026                          67.0                       130.0   \n",
       "19027                          67.0                        50.0   \n",
       "19028                          77.0                       150.0   \n",
       "\n",
       "       Regional nodes positive (1988+)  SEER Combined Mets at DX-bone (2010+)  \\\n",
       "0                                   98                                      0   \n",
       "1                                   98                                      0   \n",
       "2                                    0                                      0   \n",
       "3                                   98                                      0   \n",
       "4                                   95                                      0   \n",
       "...                                ...                                    ...   \n",
       "19024                                5                                      0   \n",
       "19025                                0                                      0   \n",
       "19026                               98                                      0   \n",
       "19027                                0                                      0   \n",
       "19028                               98                                      1   \n",
       "\n",
       "       SEER Combined Mets at DX-brain (2010+)  \\\n",
       "0                                           0   \n",
       "1                                           0   \n",
       "2                                           0   \n",
       "3                                           0   \n",
       "4                                           0   \n",
       "...                                       ...   \n",
       "19024                                       0   \n",
       "19025                                       0   \n",
       "19026                                       0   \n",
       "19027                                       0   \n",
       "19028                                       0   \n",
       "\n",
       "       SEER Combined Mets at DX-liver (2010+)  \\\n",
       "0                                           0   \n",
       "1                                           0   \n",
       "2                                           0   \n",
       "3                                           0   \n",
       "4                                           0   \n",
       "...                                       ...   \n",
       "19024                                       0   \n",
       "19025                                       0   \n",
       "19026                                       0   \n",
       "19027                                       0   \n",
       "19028                                       0   \n",
       "\n",
       "       SEER Combined Mets at DX-lung (2010+)  Survival months  Tumor > 989?  \\\n",
       "0                                          0             42.0             0   \n",
       "1                                          0             17.0             0   \n",
       "2                                          0              4.0             0   \n",
       "3                                          0              0.0             0   \n",
       "4                                          0              9.0             0   \n",
       "...                                      ...              ...           ...   \n",
       "19024                                      0             39.0             0   \n",
       "19025                                      0             15.0             0   \n",
       "19026                                      0             41.0             0   \n",
       "19027                                      0             24.0             0   \n",
       "19028                                      1              4.0             0   \n",
       "\n",
       "       nodes > 90  ...  \\\n",
       "0               0  ...   \n",
       "1               0  ...   \n",
       "2               0  ...   \n",
       "3               0  ...   \n",
       "4               0  ...   \n",
       "...           ...  ...   \n",
       "19024           0  ...   \n",
       "19025           0  ...   \n",
       "19026           0  ...   \n",
       "19027           0  ...   \n",
       "19028           0  ...   \n",
       "\n",
       "       RX Summ--Surg Oth Reg/Dis (2003+)_Non-primary surgical procedure to other regional sites  \\\n",
       "0                                                    0.0                                          \n",
       "1                                                    0.0                                          \n",
       "2                                                    0.0                                          \n",
       "3                                                    0.0                                          \n",
       "4                                                    0.0                                          \n",
       "...                                                  ...                                          \n",
       "19024                                                0.0                                          \n",
       "19025                                                0.0                                          \n",
       "19026                                                0.0                                          \n",
       "19027                                                1.0                                          \n",
       "19028                                                0.0                                          \n",
       "\n",
       "       RX Summ--Surg Oth Reg/Dis (2003+)_None; diagnosed at autopsy  \\\n",
       "0                                                    1.0              \n",
       "1                                                    1.0              \n",
       "2                                                    1.0              \n",
       "3                                                    1.0              \n",
       "4                                                    1.0              \n",
       "...                                                  ...              \n",
       "19024                                                1.0              \n",
       "19025                                                1.0              \n",
       "19026                                                1.0              \n",
       "19027                                                0.0              \n",
       "19028                                                1.0              \n",
       "\n",
       "       RX Summ--Scope Reg LN Sur (2003+)_1 to 3 regional lymph nodes removed  \\\n",
       "0                                                    0.0                       \n",
       "1                                                    0.0                       \n",
       "2                                                    0.0                       \n",
       "3                                                    0.0                       \n",
       "4                                                    0.0                       \n",
       "...                                                  ...                       \n",
       "19024                                                0.0                       \n",
       "19025                                                1.0                       \n",
       "19026                                                0.0                       \n",
       "19027                                                0.0                       \n",
       "19028                                                0.0                       \n",
       "\n",
       "       RX Summ--Scope Reg LN Sur (2003+)_4 or more regional lymph nodes removed  \\\n",
       "0                                                    0.0                          \n",
       "1                                                    0.0                          \n",
       "2                                                    1.0                          \n",
       "3                                                    0.0                          \n",
       "4                                                    0.0                          \n",
       "...                                                  ...                          \n",
       "19024                                                1.0                          \n",
       "19025                                                0.0                          \n",
       "19026                                                0.0                          \n",
       "19027                                                1.0                          \n",
       "19028                                                0.0                          \n",
       "\n",
       "       RX Summ--Scope Reg LN Sur (2003+)_Biopsy or aspiration of regional lymph node, NOS  \\\n",
       "0                                                    0.0                                    \n",
       "1                                                    0.0                                    \n",
       "2                                                    0.0                                    \n",
       "3                                                    0.0                                    \n",
       "4                                                    1.0                                    \n",
       "...                                                  ...                                    \n",
       "19024                                                0.0                                    \n",
       "19025                                                0.0                                    \n",
       "19026                                                0.0                                    \n",
       "19027                                                0.0                                    \n",
       "19028                                                0.0                                    \n",
       "\n",
       "       RX Summ--Scope Reg LN Sur (2003+)_None  \\\n",
       "0                                         1.0   \n",
       "1                                         1.0   \n",
       "2                                         0.0   \n",
       "3                                         1.0   \n",
       "4                                         0.0   \n",
       "...                                       ...   \n",
       "19024                                     0.0   \n",
       "19025                                     0.0   \n",
       "19026                                     1.0   \n",
       "19027                                     0.0   \n",
       "19028                                     1.0   \n",
       "\n",
       "       RX Summ--Scope Reg LN Sur (2003+)_Number of regional lymph nodes removed unknown  \\\n",
       "0                                                    0.0                                  \n",
       "1                                                    0.0                                  \n",
       "2                                                    0.0                                  \n",
       "3                                                    0.0                                  \n",
       "4                                                    0.0                                  \n",
       "...                                                  ...                                  \n",
       "19024                                                0.0                                  \n",
       "19025                                                0.0                                  \n",
       "19026                                                0.0                                  \n",
       "19027                                                0.0                                  \n",
       "19028                                                0.0                                  \n",
       "\n",
       "       RX Summ--Scope Reg LN Sur (2003+)_Sentinel lymph node biopsy  \\\n",
       "0                                                    0.0              \n",
       "1                                                    0.0              \n",
       "2                                                    0.0              \n",
       "3                                                    0.0              \n",
       "4                                                    0.0              \n",
       "...                                                  ...              \n",
       "19024                                                0.0              \n",
       "19025                                                0.0              \n",
       "19026                                                0.0              \n",
       "19027                                                0.0              \n",
       "19028                                                0.0              \n",
       "\n",
       "       RX Summ--Scope Reg LN Sur (2003+)_Sentinel node biopsy and lym nd removed different times  \\\n",
       "0                                                    0.0                                           \n",
       "1                                                    0.0                                           \n",
       "2                                                    0.0                                           \n",
       "3                                                    0.0                                           \n",
       "4                                                    0.0                                           \n",
       "...                                                  ...                                           \n",
       "19024                                                0.0                                           \n",
       "19025                                                0.0                                           \n",
       "19026                                                0.0                                           \n",
       "19027                                                0.0                                           \n",
       "19028                                                0.0                                           \n",
       "\n",
       "       RX Summ--Scope Reg LN Sur (2003+)_Sentinel node biopsy and lym nd removed same/unstated time  \n",
       "0                                                    0.0                                             \n",
       "1                                                    0.0                                             \n",
       "2                                                    0.0                                             \n",
       "3                                                    0.0                                             \n",
       "4                                                    0.0                                             \n",
       "...                                                  ...                                             \n",
       "19024                                                0.0                                             \n",
       "19025                                                0.0                                             \n",
       "19026                                                0.0                                             \n",
       "19027                                                0.0                                             \n",
       "19028                                                0.0                                             \n",
       "\n",
       "[19029 rows x 87 columns]"
      ]
     },
     "execution_count": 106,
     "metadata": {},
     "output_type": "execute_result"
    }
   ],
   "source": [
    "ddf"
   ]
  },
  {
   "cell_type": "markdown",
   "id": "c05f0a36",
   "metadata": {},
   "source": [
    "### Model Comparison of a Few Models"
   ]
  },
  {
   "cell_type": "markdown",
   "id": "7cebadc4",
   "metadata": {},
   "source": [
    "LR first tiral"
   ]
  },
  {
   "cell_type": "code",
   "execution_count": 187,
   "id": "21d09287",
   "metadata": {
    "collapsed": true
   },
   "outputs": [
    {
     "name": "stdout",
     "output_type": "stream",
     "text": [
      "Logistic Train Accuracy: 393.8811575923201\n",
      "Logistic Test Accuracy: 397.208280790248\n"
     ]
    },
    {
     "name": "stderr",
     "output_type": "stream",
     "text": [
      "C:\\Users\\timmy\\anaconda3\\lib\\site-packages\\sklearn\\linear_model\\_logistic.py:814: ConvergenceWarning: lbfgs failed to converge (status=1):\n",
      "STOP: TOTAL NO. of ITERATIONS REACHED LIMIT.\n",
      "\n",
      "Increase the number of iterations (max_iter) or scale the data as shown in:\n",
      "    https://scikit-learn.org/stable/modules/preprocessing.html\n",
      "Please also refer to the documentation for alternative solver options:\n",
      "    https://scikit-learn.org/stable/modules/linear_model.html#logistic-regression\n",
      "  n_iter_i = _check_optimize_result(\n"
     ]
    }
   ],
   "source": [
    "#Build very basic model, fit to training data.\n",
    "start =time.time()\n",
    "lr = LogisticRegression(max_iter = 1000).fit(X_train,y_train)\n",
    "lrtraintime =time.time() - start\n",
    "#Find scores of logistic regression predictions\n",
    "\n",
    "lrtrainscore =  mean_squared_error(y_train,lr.predict(X_train))\n",
    "lrtestscore =  mean_squared_error(y_test,lr.predict(X_test))\n",
    "\n",
    "print('Logistic Train Accuracy: ' + str(lrtrainscore) + '\\nLogistic Test Accuracy: ' + str(lrtestscore))\n",
    "\n",
    "#Format data for dataframe later\n",
    "lrdata = ['Logistic Basic', lrtrainscore, lrtestscore, lrtraintime]"
   ]
  },
  {
   "cell_type": "markdown",
   "id": "25a204a6",
   "metadata": {},
   "source": [
    "KNN first trial"
   ]
  },
  {
   "cell_type": "code",
   "execution_count": 188,
   "id": "0b47a120",
   "metadata": {},
   "outputs": [
    {
     "name": "stdout",
     "output_type": "stream",
     "text": [
      "KNN Basic Train Accuracy: 317.7210426739542\n",
      "KNN Basic Test Accuracy: 369.83375367801597\n",
      "Train Time: 0.005005598068237305\n"
     ]
    }
   ],
   "source": [
    "#Fit and score basic KNN algorithm\n",
    "#Find current time\n",
    "start = time.time()\n",
    "#Train model by fitting data\n",
    "kbasic = KNeighborsClassifier().fit(X_train,y_train)\n",
    "#Calculate time taken to fit data\n",
    "kbtraintime = time.time() - start\n",
    "\n",
    "#Get mean_squared_error from training and testing\n",
    "kbtrainscore =  mean_squared_error(y_train,kbasic.predict(X_train))\n",
    "kbtestscore =  mean_squared_error(y_test,kbasic.predict(X_test))\n",
    "#Format data for dataframe later\n",
    "kbdata = ['KNN Basic', kbtrainscore, kbtestscore, kbtraintime]\n",
    "print('KNN Basic Train Accuracy: ' + str(kbtrainscore) + '\\nKNN Basic Test Accuracy: ' + str(kbtestscore) + '\\nTrain Time: ' + str(kbtraintime))"
   ]
  },
  {
   "cell_type": "markdown",
   "id": "da4b8768",
   "metadata": {},
   "source": [
    "Decision Tree first trial"
   ]
  },
  {
   "cell_type": "code",
   "execution_count": 189,
   "id": "4c74f0ce",
   "metadata": {},
   "outputs": [
    {
     "name": "stdout",
     "output_type": "stream",
     "text": [
      "Decision Tree Basic Train Accuracy: 81.4453787401023\n",
      "Decision Tree Basic Test Accuracy: 324.23287095418243\n",
      "Train Time 0.08366250991821289\n"
     ]
    }
   ],
   "source": [
    "#Fit and score basic Decision Tree model\n",
    "#Find current time\n",
    "start = time.time()\n",
    "#Train model by fitting data\n",
    "dbasic = DecisionTreeClassifier().fit(X_train, y_train)\n",
    "#Calculate time taken to fit data\n",
    "dbtime = time.time() - start\n",
    "\n",
    "#Get mean square error from training and testing\n",
    "dbtrainscore = mean_squared_error(y_train, dbasic.predict(X_train))\n",
    "dbtestscore =  mean_squared_error(y_test, dbasic.predict(X_test))\n",
    "#Format data for dataframe later\n",
    "dbdata = ['Decision Tree Basic',dbtrainscore, dbtestscore, dbtime]\n",
    "print('Decision Tree Basic Train Accuracy: ' + str(dbtrainscore) + '\\nDecision Tree Basic Test Accuracy: ' + str(dbtestscore) + '\\nTrain Time ' + str(dbtime))"
   ]
  },
  {
   "cell_type": "markdown",
   "id": "45669c86",
   "metadata": {},
   "source": [
    "SVM first trial"
   ]
  },
  {
   "cell_type": "code",
   "execution_count": 190,
   "id": "5910cbfc",
   "metadata": {},
   "outputs": [
    {
     "name": "stdout",
     "output_type": "stream",
     "text": [
      "SVM Basic Train Accuracy: 463.748861327167\n",
      "SVM Basic Test Accuracy 474.28793610760823\n",
      "Train Time 18.150750875473022\n"
     ]
    }
   ],
   "source": [
    "#Fit and score basic SVM model\n",
    "#Find current time\n",
    "start = time.time()\n",
    "#Train model by fitting data\n",
    "sbasic = SVC().fit(X_train,y_train)\n",
    "#Calculate time taken to fit data\n",
    "sbtime = time.time() - start\n",
    "\n",
    "#Get  mean_squared_error from training and testing\n",
    "sbtrainscore =  mean_squared_error(y_train, sbasic.predict(X_train))\n",
    "sbtestscore =  mean_squared_error(y_test, sbasic.predict(X_test))\n",
    "#Format data for dataframe later\n",
    "sbdata = ['SVM Basic',sbtrainscore,sbtestscore,sbtime]\n",
    "print('SVM Basic Train Accuracy: ' + str(sbtrainscore) + '\\nSVM Basic Test Accuracy ' + str(sbtestscore) + '\\nTrain Time ' + str(sbtime))"
   ]
  },
  {
   "cell_type": "code",
   "execution_count": 202,
   "id": "ea0a2914",
   "metadata": {},
   "outputs": [
    {
     "data": {
      "text/html": [
       "<div>\n",
       "<style scoped>\n",
       "    .dataframe tbody tr th:only-of-type {\n",
       "        vertical-align: middle;\n",
       "    }\n",
       "\n",
       "    .dataframe tbody tr th {\n",
       "        vertical-align: top;\n",
       "    }\n",
       "\n",
       "    .dataframe thead th {\n",
       "        text-align: right;\n",
       "    }\n",
       "</style>\n",
       "<table border=\"1\" class=\"dataframe\">\n",
       "  <thead>\n",
       "    <tr style=\"text-align: right;\">\n",
       "      <th></th>\n",
       "      <th>Model</th>\n",
       "      <th>Train MSE</th>\n",
       "      <th>Test MSE</th>\n",
       "      <th>Train Time</th>\n",
       "    </tr>\n",
       "  </thead>\n",
       "  <tbody>\n",
       "    <tr>\n",
       "      <th>0</th>\n",
       "      <td>Logistic Basic</td>\n",
       "      <td>393.881158</td>\n",
       "      <td>397.208281</td>\n",
       "      <td>17.366961</td>\n",
       "    </tr>\n",
       "    <tr>\n",
       "      <th>1</th>\n",
       "      <td>KNN Basic</td>\n",
       "      <td>317.721043</td>\n",
       "      <td>369.833754</td>\n",
       "      <td>0.005428</td>\n",
       "    </tr>\n",
       "    <tr>\n",
       "      <th>2</th>\n",
       "      <td>Decision Tree Basic</td>\n",
       "      <td>81.445379</td>\n",
       "      <td>321.354140</td>\n",
       "      <td>0.084164</td>\n",
       "    </tr>\n",
       "    <tr>\n",
       "      <th>3</th>\n",
       "      <td>SVM Basic</td>\n",
       "      <td>463.748861</td>\n",
       "      <td>474.287936</td>\n",
       "      <td>18.115092</td>\n",
       "    </tr>\n",
       "  </tbody>\n",
       "</table>\n",
       "</div>"
      ],
      "text/plain": [
       "                 Model   Train MSE    Test MSE  Train Time\n",
       "0       Logistic Basic  393.881158  397.208281   17.366961\n",
       "1            KNN Basic  317.721043  369.833754    0.005428\n",
       "2  Decision Tree Basic   81.445379  321.354140    0.084164\n",
       "3            SVM Basic  463.748861  474.287936   18.115092"
      ]
     },
     "execution_count": 202,
     "metadata": {},
     "output_type": "execute_result"
    }
   ],
   "source": [
    "Comparisondf = (pd.DataFrame([lrdata,kbdata, dbdata,sbdata]))\n",
    "Comparisondf.columns = ['Model','Train MSE','Test MSE','Train Time']\n",
    "Comparisondf"
   ]
  },
  {
   "cell_type": "code",
   "execution_count": 207,
   "id": "a112379c",
   "metadata": {},
   "outputs": [
    {
     "data": {
      "text/plain": [
       "<function matplotlib.pyplot.show(close=None, block=None)>"
      ]
     },
     "execution_count": 207,
     "metadata": {},
     "output_type": "execute_result"
    },
    {
     "data": {
      "image/png": "[encoded data removed]",
      "text/plain": [
       "<Figure size 432x288 with 1 Axes>"
      ]
     },
     "metadata": {
      "needs_background": "light"
     },
     "output_type": "display_data"
    }
   ],
   "source": [
    "#Plot Training Accuracy of each model on a barplot. Does not appear to be a significant difference now.\n",
    "fig, ax = plt.subplots()\n",
    "plot = sns.barplot(data = Comparisondf,x = 'Model', y='Train MSE').set(title = 'Training MSE of each Model', xlabel = 'Model', ylabel = 'Training Accuracy')\n",
    "ax.set_xticklabels(ax.get_xticklabels(), rotation=45, horizontalalignment='right')\n",
    "plt.show"
   ]
  },
  {
   "cell_type": "code",
   "execution_count": 208,
   "id": "5633ec44",
   "metadata": {
    "scrolled": false
   },
   "outputs": [
    {
     "data": {
      "text/plain": [
       "<function matplotlib.pyplot.show(close=None, block=None)>"
      ]
     },
     "execution_count": 208,
     "metadata": {},
     "output_type": "execute_result"
    },
    {
     "data": {
      "image/png": "[encoded data removed]",
      "text/plain": [
       "<Figure size 432x288 with 1 Axes>"
      ]
     },
     "metadata": {
      "needs_background": "light"
     },
     "output_type": "display_data"
    }
   ],
   "source": [
    "#Plot Test Accuracy of each model on a barplot. Does not appear to be a significant difference now.\n",
    "fig, ax = plt.subplots()\n",
    "plot = sns.barplot(data = Comparisondf,x = 'Model', y='Test MSE').set(title = 'Test MSE of each Model', xlabel = 'Model', ylabel = 'Test Accuracy')\n",
    "ax.set_xticklabels(ax.get_xticklabels(), rotation=45, horizontalalignment='right')\n",
    "plt.show"
   ]
  },
  {
   "cell_type": "markdown",
   "id": "a20111e1",
   "metadata": {},
   "source": [
    "Use permutation importance to determine most important features. Accuracy is very low, so will see most important, and collect new dataset based on this."
   ]
  },
  {
   "cell_type": "code",
   "execution_count": 114,
   "id": "f2f5880b",
   "metadata": {},
   "outputs": [],
   "source": [
    "r = permutation_importance(kbasic,X_test,y_test,n_repeats=5)\n",
    "#Permuatation importance, checks which features have the largest impact on the predictions when changed"
   ]
  },
  {
   "cell_type": "code",
   "execution_count": 115,
   "id": "20dccaa5",
   "metadata": {
    "scrolled": true
   },
   "outputs": [
    {
     "name": "stdout",
     "output_type": "stream",
     "text": [
      "SEER Combined Mets at DX-brain (2010+): 0.002 +/- 0.000\n",
      "SEER Combined Mets at DX-liver (2010+): 0.001 +/- 0.000\n",
      "RX Summ--Surg Prim Site (1998+)_50: 0.001 +/- 0.001\n",
      "Tumor Size Summary (2016+): 0.001 +/- 0.001\n",
      "RX Summ--Scope Reg LN Sur (2003+)_4 or more regional lymph nodes removed: 0.001 +/- 0.000\n",
      "RX Summ--Surg Prim Site (1998+)_31: 0.001 +/- 0.000\n"
     ]
    }
   ],
   "source": [
    "for i in r.importances_mean.argsort()[::-1]:\n",
    "    if r.importances_mean[i] - 2 * r.importances_std[i] > 0:\n",
    "         print(f\"{kbasic.feature_names_in_[i]:<8}\"\n",
    "               f\": {r.importances_mean[i]:.3f}\"\n",
    "               f\" +/- {r.importances_std[i]:.3f}\")\n",
    "#Display importances and which features were important"
   ]
  },
  {
   "cell_type": "markdown",
   "id": "c46cc2ef",
   "metadata": {},
   "source": [
    "Gridsearch of KNN and Decision Trees because they have the best training accuracy, since all have very low test accuracy. Might be able to reduce overfitting to get something working."
   ]
  },
  {
   "cell_type": "code",
   "execution_count": 116,
   "id": "22ef8c7e",
   "metadata": {},
   "outputs": [],
   "source": [
    "knnparams = {'n_neighbors':range(1,11),'weights':['uniform','distance']}\n",
    "#Parameters for KNN parameters to look through in grid search.\n",
    "\n",
    "knngrid = GridSearchCV(KNeighborsClassifier(),knnparams).fit(X_train,y_train)"
   ]
  },
  {
   "cell_type": "code",
   "execution_count": 132,
   "id": "cb205960",
   "metadata": {},
   "outputs": [
    {
     "data": {
      "text/plain": [
       "{'n_neighbors': 5, 'weights': 'uniform'}"
      ]
     },
     "execution_count": 132,
     "metadata": {},
     "output_type": "execute_result"
    }
   ],
   "source": [
    "knngrid.best_params_\n",
    "#Get best parameters"
   ]
  },
  {
   "cell_type": "code",
   "execution_count": 118,
   "id": "9ed8f68c",
   "metadata": {},
   "outputs": [
    {
     "data": {
      "text/plain": [
       "0.04856008158887211"
      ]
     },
     "execution_count": 118,
     "metadata": {},
     "output_type": "execute_result"
    }
   ],
   "source": [
    "knngrid.best_score_\n",
    "#Best score still very low... perhaps these features are not predictive of the data."
   ]
  },
  {
   "cell_type": "code",
   "execution_count": 117,
   "id": "3c3dcb79",
   "metadata": {},
   "outputs": [],
   "source": [
    "dtparams = {'criterion':['gini','entropy'],'max_depth':range(1,5),'min_samples_split':range(2,6)}\n",
    "dtgrid = GridSearchCV(DecisionTreeClassifier(),dtparams).fit(X_train,y_train)"
   ]
  },
  {
   "cell_type": "code",
   "execution_count": 119,
   "id": "e547fb52",
   "metadata": {},
   "outputs": [
    {
     "data": {
      "text/plain": [
       "0.06271484271928543"
      ]
     },
     "execution_count": 119,
     "metadata": {},
     "output_type": "execute_result"
    }
   ],
   "source": [
    "dtgrid.best_score_"
   ]
  },
  {
   "cell_type": "code",
   "execution_count": 120,
   "id": "6c735a2a",
   "metadata": {},
   "outputs": [
    {
     "data": {
      "text/plain": [
       "{'criterion': 'entropy', 'max_depth': 3, 'min_samples_split': 2}"
      ]
     },
     "execution_count": 120,
     "metadata": {},
     "output_type": "execute_result"
    }
   ],
   "source": [
    "dtgrid.best_params_"
   ]
  },
  {
   "cell_type": "code",
   "execution_count": 121,
   "id": "6902a934",
   "metadata": {},
   "outputs": [],
   "source": [
    "dbest = DecisionTreeClassifier(criterion = 'gini', max_depth = 2, min_samples_split=2).fit(X_train,y_train)"
   ]
  },
  {
   "cell_type": "code",
   "execution_count": 122,
   "id": "8af8ec26",
   "metadata": {},
   "outputs": [],
   "source": [
    "r = permutation_importance(dbest,X_test,y_test,n_repeats=5)"
   ]
  },
  {
   "cell_type": "code",
   "execution_count": 123,
   "id": "42dc594c",
   "metadata": {},
   "outputs": [
    {
     "name": "stdout",
     "output_type": "stream",
     "text": [
      "RX Summ--Surg Prim Site (1998+)_0: 0.008 +/- 0.001\n"
     ]
    }
   ],
   "source": [
    "for i in r.importances_mean.argsort()[::-1]:\n",
    "    if r.importances_mean[i] - 2 * r.importances_std[i] > 0:\n",
    "         print(f\"{dbest.feature_names_in_[i]:<8}\"\n",
    "               f\": {r.importances_mean[i]:.3f}\"\n",
    "               f\" +/- {r.importances_std[i]:.3f}\")"
   ]
  },
  {
   "cell_type": "markdown",
   "id": "01d32ac7",
   "metadata": {},
   "source": [
    "### Linear Regresssion Model"
   ]
  },
  {
   "cell_type": "code",
   "execution_count": 124,
   "id": "cf683036",
   "metadata": {},
   "outputs": [],
   "source": [
    "lr = LinearRegression().fit(X_train,y_train)\n",
    "#Fit model using linear regression, as other models appear to have very high errors"
   ]
  },
  {
   "cell_type": "code",
   "execution_count": 125,
   "id": "44c0411d",
   "metadata": {},
   "outputs": [],
   "source": [
    "msetrain = mean_squared_error(lr.predict(X_train),y_train)\n",
    "msetest = mean_squared_error(lr.predict(X_test),y_test)"
   ]
  },
  {
   "cell_type": "code",
   "execution_count": 126,
   "id": "7184f4db",
   "metadata": {},
   "outputs": [
    {
     "data": {
      "text/plain": [
       "162.29408975026138"
      ]
     },
     "execution_count": 126,
     "metadata": {},
     "output_type": "execute_result"
    }
   ],
   "source": [
    "msetrain"
   ]
  },
  {
   "cell_type": "code",
   "execution_count": 127,
   "id": "86e04f05",
   "metadata": {},
   "outputs": [
    {
     "data": {
      "text/plain": [
       "165.6224161742566"
      ]
     },
     "execution_count": 127,
     "metadata": {},
     "output_type": "execute_result"
    }
   ],
   "source": [
    "msetest"
   ]
  },
  {
   "cell_type": "markdown",
   "id": "99fb3ce5",
   "metadata": {},
   "source": [
    "Determine best degree to use based on how error of trains and tests change."
   ]
  },
  {
   "cell_type": "code",
   "execution_count": 129,
   "id": "df48e94a",
   "metadata": {},
   "outputs": [],
   "source": [
    "msetrains = []\n",
    "msetests = []\n",
    "degrees = []\n",
    "for i in range(1,4):\n",
    "#Column transformer, polynomial degree of all numerical columns, onehotencoder for the categorical values that can't really be ordered, ordinalencoder for the columns that can be ordered somewhat.\n",
    "    trans = make_column_transformer((PolynomialFeatures(degree=i), make_column_selector(dtype_include=np.number)))\n",
    "    #Create pipeline to transform and model as linear regression\n",
    "    pipe = Pipeline([\n",
    "        ('poly', trans),\n",
    "        ('model', LinearRegression())\n",
    "    ])\n",
    "    #Fit model using training data\n",
    "    pipe.fit(X_train,y_train)\n",
    "    #Calculate mean squared errors\n",
    "    msetrain = mean_squared_error(pipe.predict(X_train),y_train)\n",
    "    msetest = mean_squared_error(pipe.predict(X_test),y_test)\n",
    "    msetrains.append(msetrain)\n",
    "    msetests.append(msetest)\n",
    "    degrees.append(i)\n",
    " #   print('Training MSE: ' + str(msetrain) +'\\nTest MSE: ' + str(msetest))"
   ]
  },
  {
   "cell_type": "code",
   "execution_count": 130,
   "id": "f9872f08",
   "metadata": {
    "scrolled": true
   },
   "outputs": [
    {
     "data": {
      "text/plain": [
       "[Text(0.5, 1.0, 'Mean Squared Error vs. Polynomial Degree'),\n",
       " Text(0.5, 0, 'Polynomial Degree'),\n",
       " Text(0, 0.5, 'MSE * 10 **7')]"
      ]
     },
     "execution_count": 130,
     "metadata": {},
     "output_type": "execute_result"
    },
    {
     "data": {
      "image/png": "[encoded data removed]",
      "text/plain": [
       "<Figure size 432x288 with 1 Axes>"
      ]
     },
     "metadata": {
      "needs_background": "light"
     },
     "output_type": "display_data"
    }
   ],
   "source": [
    "msedf = pd.DataFrame(msetrains,degrees)\n",
    "msedf.columns = ['MseTrains']\n",
    "msedf['MseTests'] = msetests\n",
    "sns.scatterplot(data=msedf).set(title = 'Mean Squared Error vs. Polynomial Degree', xlabel = 'Polynomial Degree',ylabel = 'MSE * 10 **7')\n",
    "#Looks like 1 or 3 degrees is the best, so will use that for model. Has the effect where overfitting by a lot results in it going back down\n",
    "#When compared with test data, training MSEs not too far off, so doesn't seem to be overtrained"
   ]
  },
  {
   "cell_type": "markdown",
   "id": "aeb07d82",
   "metadata": {},
   "source": [
    "Degree 3 linear regression"
   ]
  },
  {
   "cell_type": "code",
   "execution_count": 135,
   "id": "02631cd8",
   "metadata": {},
   "outputs": [
    {
     "data": {
      "text/plain": [
       "0.27144271514983453"
      ]
     },
     "execution_count": 135,
     "metadata": {},
     "output_type": "execute_result"
    }
   ],
   "source": [
    "trans = make_column_transformer((PolynomialFeatures(degree=3), make_column_selector(dtype_include=np.number)))\n",
    "#Create pipeline to transform and model as linear regression, attempt degree 3 since similare MSE for this one.\n",
    "pipe = Pipeline([\n",
    "    ('poly', trans),\n",
    "    ('model', LinearRegression())\n",
    "    ])\n",
    "#Fit model using training data\n",
    "pipe.fit(X_train,y_train)\n",
    "pipe.score(X_train,y_train)"
   ]
  },
  {
   "cell_type": "code",
   "execution_count": 136,
   "id": "d9ae49e6",
   "metadata": {},
   "outputs": [
    {
     "data": {
      "text/plain": [
       "-153415.2110326754"
      ]
     },
     "execution_count": 136,
     "metadata": {},
     "output_type": "execute_result"
    }
   ],
   "source": [
    "pipe.score(X_test,y_test)\n",
    "#Test score for degree 3. Very low."
   ]
  },
  {
   "cell_type": "markdown",
   "id": "9096dbce",
   "metadata": {},
   "source": [
    "Degree 1 linear regression"
   ]
  },
  {
   "cell_type": "code",
   "execution_count": 137,
   "id": "60430ddf",
   "metadata": {},
   "outputs": [
    {
     "data": {
      "text/plain": [
       "0.14762171820229453"
      ]
     },
     "execution_count": 137,
     "metadata": {},
     "output_type": "execute_result"
    }
   ],
   "source": [
    "trans = make_column_transformer((PolynomialFeatures(degree=1), make_column_selector(dtype_include=np.number)))\n",
    "#Create pipeline to transform and model as linear regression. Attempt degree 1 since similarly low MSE for test and train.\n",
    "pipe = Pipeline([\n",
    "    ('poly', trans),\n",
    "    ('model', LinearRegression())\n",
    "    ])\n",
    "#Fit model using training data\n",
    "pipe.fit(X_train,y_train)\n",
    "pipe.score(X_train,y_train)"
   ]
  },
  {
   "cell_type": "code",
   "execution_count": 138,
   "id": "35037d57",
   "metadata": {},
   "outputs": [
    {
     "data": {
      "text/plain": [
       "0.14446632635954137"
      ]
     },
     "execution_count": 138,
     "metadata": {},
     "output_type": "execute_result"
    }
   ],
   "source": [
    "pipe.score(X_test, y_test)\n",
    "#Test score "
   ]
  },
  {
   "cell_type": "code",
   "execution_count": 184,
   "id": "53036caf",
   "metadata": {},
   "outputs": [
    {
     "name": "stdout",
     "output_type": "stream",
     "text": [
      "polynomialfeatures__RX Summ--Surg Prim Site (1998+)_38: 8.297374305808846\n",
      "polynomialfeatures__RX Summ--Surg Prim Site (1998+)_10: 10.646662853865752\n",
      "polynomialfeatures__RX Summ--Surg Prim Site (1998+)_19: 11.616846475254713\n",
      "polynomialfeatures__Tumor > 989?: 15.702190939950686\n",
      "polynomialfeatures__RX Summ--Surg Prim Site (1998+)_66: 18.861056255777353\n"
     ]
    }
   ],
   "source": [
    "featurecoefdict = {}\n",
    "for i in range(0,len(pipe['poly'].get_feature_names_out())):\n",
    "    featurecoefdict[pipe['poly'].get_feature_names_out()[i]] =  abs(pipe['model'].coef_[i])\n",
    "    \n",
    "#Shows coefficients and what features they correspond to. \n",
    "\n",
    "sortdict = sorted(featurecoefdict, key=featurecoefdict.get)\n",
    "#Sort Dictionary\n",
    "\n",
    "for i in sortdict[-5:]:\n",
    "    print(i + ': ' + str(featurecoefdict[i]))\n",
    "#Print highest absolute coefficent (most influential values)"
   ]
  },
  {
   "cell_type": "markdown",
   "id": "887e2a10",
   "metadata": {},
   "source": [
    "## Results"
   ]
  },
  {
   "cell_type": "markdown",
   "id": "82343fe5",
   "metadata": {},
   "source": [
    "After processing the data, fitting and comparing various models and assessing features to use, I ultimately found that a linear regression model appeared to best model the data possibly due to there being too little difference between each 'class' of survival months (with a class being each integer value), resulting in large amounts of misclassification. Although none of the classification models fit the data very well, KNN and Decision Tree were the best and from these, combined metastasis and surgery site appeared to have the greatest influence on survival months. Linear regression, however, proved to be a much better fit, with a much lower overall test mean squared error.\n",
    "\n",
    "Although I still had a very high mean square error, I think the Linear Regression Model performed the best overall, and the most influential feature was the Surgery site, as it had the highest coefficients.\n",
    "\n",
    "Future analysis of the data could focus on Linear Regression and explore additional new features from the SEER data, as there are many more left unexplored. In addition, the specific surgery sites that have the greatest influence on survival months could be explored to get an idea of what types of cancer are more or less dangerous to patients, or which surgeries are more effective. "
   ]
  }
 ],
 "metadata": {
  "kernelspec": {
   "display_name": "Python 3 (ipykernel)",
   "language": "python",
   "name": "python3"
  },
  "language_info": {
   "codemirror_mode": {
    "name": "ipython",
    "version": 3
   },
   "file_extension": ".py",
   "mimetype": "text/x-python",
   "name": "python",
   "nbconvert_exporter": "python",
   "pygments_lexer": "ipython3",
   "version": "3.9.12"
  }
 },
 "nbformat": 4,
 "nbformat_minor": 5
}
